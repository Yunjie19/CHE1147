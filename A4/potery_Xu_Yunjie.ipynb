{
 "cells": [
  {
   "cell_type": "markdown",
   "id": "81898424",
   "metadata": {},
   "source": [
    "# <center> Course: CHE1147H - Data Mining in Engineering <center>\n",
    "## <center> Programming Assignment 4: Potery <center>\n",
    "    \n",
    "#### <center> Yunjie Xu 1008601951<center> \n",
    "    \n"
   ]
  },
  {
   "cell_type": "code",
   "execution_count": 1,
   "id": "b92545a3",
   "metadata": {},
   "outputs": [],
   "source": [
    "import  pandas as pd \n",
    "import  numpy as np\n",
    "import  matplotlib.pyplot as plt\n",
    "from sklearn.preprocessing import StandardScaler\n",
    "from sklearn.decomposition import PCA\n",
    "from matplotlib.ticker import MaxNLocator\n",
    "from sklearn.preprocessing import MaxAbsScaler\n",
    "import  seaborn as sns"
   ]
  },
  {
   "cell_type": "markdown",
   "id": "e41cf448",
   "metadata": {},
   "source": [
    "## 1 Chemical composition of pottery\n",
    "### 1.1 Data exploration with PCA\n",
    "    1. Import and view the data. How many columns do you have? Which columns will you use in your PCA?"
   ]
  },
  {
   "cell_type": "code",
   "execution_count": 2,
   "id": "dd0c7a30",
   "metadata": {},
   "outputs": [
    {
     "data": {
      "text/html": [
       "<div>\n",
       "<style scoped>\n",
       "    .dataframe tbody tr th:only-of-type {\n",
       "        vertical-align: middle;\n",
       "    }\n",
       "\n",
       "    .dataframe tbody tr th {\n",
       "        vertical-align: top;\n",
       "    }\n",
       "\n",
       "    .dataframe thead th {\n",
       "        text-align: right;\n",
       "    }\n",
       "</style>\n",
       "<table border=\"1\" class=\"dataframe\">\n",
       "  <thead>\n",
       "    <tr style=\"text-align: right;\">\n",
       "      <th></th>\n",
       "      <th>Unnamed: 0</th>\n",
       "      <th>Site</th>\n",
       "      <th>Al</th>\n",
       "      <th>Fe</th>\n",
       "      <th>Mg</th>\n",
       "      <th>Ca</th>\n",
       "      <th>Na</th>\n",
       "    </tr>\n",
       "  </thead>\n",
       "  <tbody>\n",
       "    <tr>\n",
       "      <th>0</th>\n",
       "      <td>1</td>\n",
       "      <td>Llanedyrn</td>\n",
       "      <td>14.4</td>\n",
       "      <td>7.00</td>\n",
       "      <td>4.30</td>\n",
       "      <td>0.15</td>\n",
       "      <td>0.51</td>\n",
       "    </tr>\n",
       "    <tr>\n",
       "      <th>1</th>\n",
       "      <td>2</td>\n",
       "      <td>Llanedyrn</td>\n",
       "      <td>13.8</td>\n",
       "      <td>7.08</td>\n",
       "      <td>3.43</td>\n",
       "      <td>0.12</td>\n",
       "      <td>0.17</td>\n",
       "    </tr>\n",
       "    <tr>\n",
       "      <th>2</th>\n",
       "      <td>3</td>\n",
       "      <td>Llanedyrn</td>\n",
       "      <td>14.6</td>\n",
       "      <td>7.09</td>\n",
       "      <td>3.88</td>\n",
       "      <td>0.13</td>\n",
       "      <td>0.20</td>\n",
       "    </tr>\n",
       "    <tr>\n",
       "      <th>3</th>\n",
       "      <td>4</td>\n",
       "      <td>Llanedyrn</td>\n",
       "      <td>11.5</td>\n",
       "      <td>6.37</td>\n",
       "      <td>5.64</td>\n",
       "      <td>0.16</td>\n",
       "      <td>0.14</td>\n",
       "    </tr>\n",
       "    <tr>\n",
       "      <th>4</th>\n",
       "      <td>5</td>\n",
       "      <td>Llanedyrn</td>\n",
       "      <td>13.8</td>\n",
       "      <td>7.06</td>\n",
       "      <td>5.34</td>\n",
       "      <td>0.20</td>\n",
       "      <td>0.20</td>\n",
       "    </tr>\n",
       "  </tbody>\n",
       "</table>\n",
       "</div>"
      ],
      "text/plain": [
       "   Unnamed: 0       Site    Al    Fe    Mg    Ca    Na\n",
       "0           1  Llanedyrn  14.4  7.00  4.30  0.15  0.51\n",
       "1           2  Llanedyrn  13.8  7.08  3.43  0.12  0.17\n",
       "2           3  Llanedyrn  14.6  7.09  3.88  0.13  0.20\n",
       "3           4  Llanedyrn  11.5  6.37  5.64  0.16  0.14\n",
       "4           5  Llanedyrn  13.8  7.06  5.34  0.20  0.20"
      ]
     },
     "execution_count": 2,
     "metadata": {},
     "output_type": "execute_result"
    }
   ],
   "source": [
    "# Import and view the data\n",
    "pottery = pd.read_csv('Pottery.csv')\n",
    "pottery.head()"
   ]
  },
  {
   "cell_type": "code",
   "execution_count": 3,
   "id": "8223fa33",
   "metadata": {},
   "outputs": [
    {
     "name": "stdout",
     "output_type": "stream",
     "text": [
      "This dataset has 7 columns.\n"
     ]
    }
   ],
   "source": [
    "print(f'This dataset has {len(pottery.columns)} columns.')"
   ]
  },
  {
   "cell_type": "code",
   "execution_count": 4,
   "id": "eb09b5f0",
   "metadata": {},
   "outputs": [
    {
     "name": "stdout",
     "output_type": "stream",
     "text": [
      "Index(['Al', 'Fe', 'Mg', 'Ca', 'Na'], dtype='object') columns will use in my PCA.\n"
     ]
    }
   ],
   "source": [
    "print(f'{pottery.columns[2:]} columns will use in my PCA.')"
   ]
  },
  {
   "cell_type": "markdown",
   "id": "f56eef56",
   "metadata": {},
   "source": [
    "    2. Pre-process the data and perform PCA with 3 PCs."
   ]
  },
  {
   "cell_type": "code",
   "execution_count": 5,
   "id": "731cd6ad",
   "metadata": {},
   "outputs": [
    {
     "data": {
      "text/html": [
       "<div>\n",
       "<style scoped>\n",
       "    .dataframe tbody tr th:only-of-type {\n",
       "        vertical-align: middle;\n",
       "    }\n",
       "\n",
       "    .dataframe tbody tr th {\n",
       "        vertical-align: top;\n",
       "    }\n",
       "\n",
       "    .dataframe thead th {\n",
       "        text-align: right;\n",
       "    }\n",
       "</style>\n",
       "<table border=\"1\" class=\"dataframe\">\n",
       "  <thead>\n",
       "    <tr style=\"text-align: right;\">\n",
       "      <th></th>\n",
       "      <th>PC1</th>\n",
       "      <th>PC2</th>\n",
       "      <th>PC3</th>\n",
       "    </tr>\n",
       "  </thead>\n",
       "  <tbody>\n",
       "    <tr>\n",
       "      <th>0</th>\n",
       "      <td>-1.778026</td>\n",
       "      <td>2.289445</td>\n",
       "      <td>-0.075289</td>\n",
       "    </tr>\n",
       "    <tr>\n",
       "      <th>1</th>\n",
       "      <td>-0.611193</td>\n",
       "      <td>0.122065</td>\n",
       "      <td>-0.499044</td>\n",
       "    </tr>\n",
       "    <tr>\n",
       "      <th>2</th>\n",
       "      <td>-0.722428</td>\n",
       "      <td>0.370209</td>\n",
       "      <td>-0.207550</td>\n",
       "    </tr>\n",
       "    <tr>\n",
       "      <th>3</th>\n",
       "      <td>-1.417696</td>\n",
       "      <td>-0.555600</td>\n",
       "      <td>-0.557590</td>\n",
       "    </tr>\n",
       "    <tr>\n",
       "      <th>4</th>\n",
       "      <td>-1.486801</td>\n",
       "      <td>-0.004081</td>\n",
       "      <td>0.195248</td>\n",
       "    </tr>\n",
       "    <tr>\n",
       "      <th>5</th>\n",
       "      <td>-1.259044</td>\n",
       "      <td>-0.092347</td>\n",
       "      <td>-0.783259</td>\n",
       "    </tr>\n",
       "    <tr>\n",
       "      <th>6</th>\n",
       "      <td>-1.180703</td>\n",
       "      <td>-0.607921</td>\n",
       "      <td>-0.575010</td>\n",
       "    </tr>\n",
       "    <tr>\n",
       "      <th>7</th>\n",
       "      <td>-1.490385</td>\n",
       "      <td>-0.498745</td>\n",
       "      <td>-0.336582</td>\n",
       "    </tr>\n",
       "    <tr>\n",
       "      <th>8</th>\n",
       "      <td>-2.076010</td>\n",
       "      <td>0.000500</td>\n",
       "      <td>0.220714</td>\n",
       "    </tr>\n",
       "    <tr>\n",
       "      <th>9</th>\n",
       "      <td>-2.311320</td>\n",
       "      <td>-0.376341</td>\n",
       "      <td>0.800851</td>\n",
       "    </tr>\n",
       "    <tr>\n",
       "      <th>10</th>\n",
       "      <td>-2.621615</td>\n",
       "      <td>1.952241</td>\n",
       "      <td>0.094513</td>\n",
       "    </tr>\n",
       "    <tr>\n",
       "      <th>11</th>\n",
       "      <td>-2.155016</td>\n",
       "      <td>-0.220571</td>\n",
       "      <td>0.828020</td>\n",
       "    </tr>\n",
       "    <tr>\n",
       "      <th>12</th>\n",
       "      <td>-1.431624</td>\n",
       "      <td>0.007079</td>\n",
       "      <td>-0.106344</td>\n",
       "    </tr>\n",
       "    <tr>\n",
       "      <th>13</th>\n",
       "      <td>-1.413437</td>\n",
       "      <td>-0.013782</td>\n",
       "      <td>-0.037041</td>\n",
       "    </tr>\n",
       "    <tr>\n",
       "      <th>14</th>\n",
       "      <td>-1.153767</td>\n",
       "      <td>-1.634243</td>\n",
       "      <td>0.411643</td>\n",
       "    </tr>\n",
       "    <tr>\n",
       "      <th>15</th>\n",
       "      <td>-1.145386</td>\n",
       "      <td>-1.490205</td>\n",
       "      <td>0.286453</td>\n",
       "    </tr>\n",
       "    <tr>\n",
       "      <th>16</th>\n",
       "      <td>2.668073</td>\n",
       "      <td>0.029649</td>\n",
       "      <td>0.126326</td>\n",
       "    </tr>\n",
       "    <tr>\n",
       "      <th>17</th>\n",
       "      <td>2.135919</td>\n",
       "      <td>-0.119176</td>\n",
       "      <td>-0.680174</td>\n",
       "    </tr>\n",
       "    <tr>\n",
       "      <th>18</th>\n",
       "      <td>2.585526</td>\n",
       "      <td>0.262264</td>\n",
       "      <td>-0.096612</td>\n",
       "    </tr>\n",
       "    <tr>\n",
       "      <th>19</th>\n",
       "      <td>2.561672</td>\n",
       "      <td>0.138060</td>\n",
       "      <td>-0.121480</td>\n",
       "    </tr>\n",
       "    <tr>\n",
       "      <th>20</th>\n",
       "      <td>2.615076</td>\n",
       "      <td>0.654624</td>\n",
       "      <td>0.983277</td>\n",
       "    </tr>\n",
       "    <tr>\n",
       "      <th>21</th>\n",
       "      <td>2.415728</td>\n",
       "      <td>0.048399</td>\n",
       "      <td>0.193736</td>\n",
       "    </tr>\n",
       "    <tr>\n",
       "      <th>22</th>\n",
       "      <td>2.505373</td>\n",
       "      <td>0.053793</td>\n",
       "      <td>0.342508</td>\n",
       "    </tr>\n",
       "    <tr>\n",
       "      <th>23</th>\n",
       "      <td>2.565084</td>\n",
       "      <td>0.032170</td>\n",
       "      <td>-0.376411</td>\n",
       "    </tr>\n",
       "    <tr>\n",
       "      <th>24</th>\n",
       "      <td>1.786069</td>\n",
       "      <td>-0.239541</td>\n",
       "      <td>-0.799486</td>\n",
       "    </tr>\n",
       "    <tr>\n",
       "      <th>25</th>\n",
       "      <td>2.415928</td>\n",
       "      <td>-0.107947</td>\n",
       "      <td>0.768582</td>\n",
       "    </tr>\n",
       "  </tbody>\n",
       "</table>\n",
       "</div>"
      ],
      "text/plain": [
       "         PC1       PC2       PC3\n",
       "0  -1.778026  2.289445 -0.075289\n",
       "1  -0.611193  0.122065 -0.499044\n",
       "2  -0.722428  0.370209 -0.207550\n",
       "3  -1.417696 -0.555600 -0.557590\n",
       "4  -1.486801 -0.004081  0.195248\n",
       "5  -1.259044 -0.092347 -0.783259\n",
       "6  -1.180703 -0.607921 -0.575010\n",
       "7  -1.490385 -0.498745 -0.336582\n",
       "8  -2.076010  0.000500  0.220714\n",
       "9  -2.311320 -0.376341  0.800851\n",
       "10 -2.621615  1.952241  0.094513\n",
       "11 -2.155016 -0.220571  0.828020\n",
       "12 -1.431624  0.007079 -0.106344\n",
       "13 -1.413437 -0.013782 -0.037041\n",
       "14 -1.153767 -1.634243  0.411643\n",
       "15 -1.145386 -1.490205  0.286453\n",
       "16  2.668073  0.029649  0.126326\n",
       "17  2.135919 -0.119176 -0.680174\n",
       "18  2.585526  0.262264 -0.096612\n",
       "19  2.561672  0.138060 -0.121480\n",
       "20  2.615076  0.654624  0.983277\n",
       "21  2.415728  0.048399  0.193736\n",
       "22  2.505373  0.053793  0.342508\n",
       "23  2.565084  0.032170 -0.376411\n",
       "24  1.786069 -0.239541 -0.799486\n",
       "25  2.415928 -0.107947  0.768582"
      ]
     },
     "execution_count": 5,
     "metadata": {},
     "output_type": "execute_result"
    }
   ],
   "source": [
    "# Drop unnecessary columns and reset index\n",
    "pottery_clean = pottery.drop([\"Unnamed: 0\"], axis=1)\n",
    "pottery_clean.set_index(\"Site\", inplace=True)\n",
    "\n",
    "# standardize data\n",
    "scaler = StandardScaler()\n",
    "pottery_scaled = scaler.fit_transform(pottery_clean)\n",
    "\n",
    "# perform PCA with 3 PCs\n",
    "pca = PCA(n_components=3, svd_solver='full')\n",
    "\n",
    "# Extract the scores\n",
    "PC_scores = pca.fit_transform(pottery_scaled)\n",
    "scores_pd = pd.DataFrame(data = PC_scores\n",
    "                         ,columns = ['PC1', 'PC2', 'PC3']\n",
    "                         ,index = pottery.index)\n",
    "scores_pd "
   ]
  },
  {
   "cell_type": "code",
   "execution_count": 6,
   "id": "952abca7",
   "metadata": {},
   "outputs": [
    {
     "data": {
      "text/html": [
       "<div>\n",
       "<style scoped>\n",
       "    .dataframe tbody tr th:only-of-type {\n",
       "        vertical-align: middle;\n",
       "    }\n",
       "\n",
       "    .dataframe tbody tr th {\n",
       "        vertical-align: top;\n",
       "    }\n",
       "\n",
       "    .dataframe thead th {\n",
       "        text-align: right;\n",
       "    }\n",
       "</style>\n",
       "<table border=\"1\" class=\"dataframe\">\n",
       "  <thead>\n",
       "    <tr style=\"text-align: right;\">\n",
       "      <th></th>\n",
       "      <th>PC1</th>\n",
       "      <th>PC2</th>\n",
       "      <th>PC3</th>\n",
       "    </tr>\n",
       "  </thead>\n",
       "  <tbody>\n",
       "    <tr>\n",
       "      <th>Al</th>\n",
       "      <td>0.445434</td>\n",
       "      <td>0.356524</td>\n",
       "      <td>0.694985</td>\n",
       "    </tr>\n",
       "    <tr>\n",
       "      <th>Fe</th>\n",
       "      <td>-0.478132</td>\n",
       "      <td>0.041175</td>\n",
       "      <td>-0.157338</td>\n",
       "    </tr>\n",
       "    <tr>\n",
       "      <th>Mg</th>\n",
       "      <td>-0.486541</td>\n",
       "      <td>-0.049607</td>\n",
       "      <td>0.158560</td>\n",
       "    </tr>\n",
       "    <tr>\n",
       "      <th>Ca</th>\n",
       "      <td>-0.449054</td>\n",
       "      <td>-0.344146</td>\n",
       "      <td>0.683443</td>\n",
       "    </tr>\n",
       "    <tr>\n",
       "      <th>Na</th>\n",
       "      <td>-0.366888</td>\n",
       "      <td>0.866197</td>\n",
       "      <td>0.002043</td>\n",
       "    </tr>\n",
       "  </tbody>\n",
       "</table>\n",
       "</div>"
      ],
      "text/plain": [
       "         PC1       PC2       PC3\n",
       "Al  0.445434  0.356524  0.694985\n",
       "Fe -0.478132  0.041175 -0.157338\n",
       "Mg -0.486541 -0.049607  0.158560\n",
       "Ca -0.449054 -0.344146  0.683443\n",
       "Na -0.366888  0.866197  0.002043"
      ]
     },
     "execution_count": 6,
     "metadata": {},
     "output_type": "execute_result"
    }
   ],
   "source": [
    "# Extract the loadings\n",
    "loadings_pd = pd.DataFrame(data = pca.components_.T\n",
    "                           ,columns = ['PC1', 'PC2', 'PC3']\n",
    "                           ,index = pottery_clean.columns)\n",
    "loadings_pd"
   ]
  },
  {
   "cell_type": "markdown",
   "id": "97db9ec4",
   "metadata": {},
   "source": [
    "    3. Plot the cumulative explained variance graph. What percent of the variance do the first 2 and 3 components describe?"
   ]
  },
  {
   "cell_type": "code",
   "execution_count": 7,
   "id": "0d2027be",
   "metadata": {},
   "outputs": [
    {
     "name": "stdout",
     "output_type": "stream",
     "text": [
      "2 components describe 0.89732 variance, and 3 components describe 0.94616 variance\n"
     ]
    }
   ],
   "source": [
    "pca_per = pca.explained_variance_ratio_\n",
    "\n",
    "pca_2 = pca_per[0] + pca_per[1]\n",
    "pca_3 = pca_per[0] + pca_per[1] + pca_per[2] \n",
    "\n",
    "print(f'2 components describe {round(pca_2,5)} variance, and 3 components describe {round(pca_3,5)} variance')\n"
   ]
  },
  {
   "cell_type": "code",
   "execution_count": 8,
   "id": "7579d5af",
   "metadata": {},
   "outputs": [
    {
     "data": {
      "text/plain": [
       "<Figure size 576x432 with 0 Axes>"
      ]
     },
     "metadata": {},
     "output_type": "display_data"
    },
    {
     "data": {
      "image/png": "[encoded data removed]",
      "text/plain": [
       "<Figure size 432x288 with 1 Axes>"
      ]
     },
     "metadata": {
      "needs_background": "light"
     },
     "output_type": "display_data"
    }
   ],
   "source": [
    "plt.figure(figsize=(8,6))\n",
    "\n",
    "ax = plt.figure().gca()\n",
    "ax.xaxis.set_major_locator(MaxNLocator(integer=True))\n",
    "\n",
    "plt.plot([1,2,3], \n",
    "         [pca_per[0],pca_2,pca_3],'-o')\n",
    "\n",
    "plt.title('The Cumulative Explained Variance Graph')\n",
    "plt.xlabel('Number of components')\n",
    "plt.ylabel('Cumulative explained variance (%)')\n",
    "plt.ylim(0.75,1)\n",
    "plt.grid()\n",
    "plt.show()"
   ]
  },
  {
   "cell_type": "markdown",
   "id": "065b17c9",
   "metadata": {},
   "source": [
    "    4. Plot the scores-loadings graph for PC1-PC2. Visualize the different sites with a different colour or symbol."
   ]
  },
  {
   "cell_type": "code",
   "execution_count": 9,
   "id": "d49bfd5a",
   "metadata": {},
   "outputs": [
    {
     "data": {
      "image/png": "[encoded data removed]",
      "text/plain": [
       "<Figure size 864x432 with 1 Axes>"
      ]
     },
     "metadata": {
      "needs_background": "light"
     },
     "output_type": "display_data"
    }
   ],
   "source": [
    "plt.figure(figsize=(12,6))\n",
    "\n",
    "xt = PC_scores[:,:2][:,0]\n",
    "yt = PC_scores[:,:2][:,1]\n",
    "xt_scaled = xt / (xt.max() - xt.min())\n",
    "yt_scaled = yt / (yt.max() - yt.min())\n",
    "\n",
    "score_labels = pottery_clean.index # Label: site\n",
    "score_labels = zip(np.vstack((xt_scaled, yt_scaled)).T, score_labels)\n",
    "\n",
    "# Visualize sites \n",
    "for (x,y), label in score_labels:\n",
    "    if label == 'AshleyRails':\n",
    "        plt.text(x, y, 'AshleyRails', size=10, color = '#FF3333')\n",
    "    elif label == 'Caldicot':\n",
    "        plt.text(x, y, 'Caldicot', size=10, color = '#FF0000')\n",
    "    elif label == 'IsleThorns':\n",
    "        plt.text(x, y, 'IsleThorns', size=10, color = '#00FF00')\n",
    "    else:\n",
    "        plt.text(x, y, 'Llanedyrn', size=10, color = '#00BBFF')\n",
    "            \n",
    "\n",
    "# Loading\n",
    "n = loadings_pd.shape[0]\n",
    "p = loadings_pd.iloc[:,:2]\n",
    "p_scaled = MaxAbsScaler().fit_transform(p)\n",
    "\n",
    "# Label: raw material\n",
    "loading_labels=loadings_pd.index \n",
    "\n",
    "# Visualize raw materials\n",
    "for i in range(n):\n",
    "    plt.arrow(0, 0, p_scaled[i,0], p_scaled[i,1], color = 'red')\n",
    "    plt.text(p_scaled[i,0], p_scaled[i,1], loading_labels[i], ha = 'center', va = 'center', size=14)\n",
    "\n",
    "plt.xlim(-1,1)\n",
    "plt.ylim(-1,1)\n",
    "plt.title ('The Scores-Loadings Graph for PC1-PC2',fontsize=15)\n",
    "plt.xlabel('PC1', fontsize=12)\n",
    "plt.ylabel('PC2', fontsize=12)\n",
    "plt.grid()\n",
    "plt.show()"
   ]
  },
  {
   "cell_type": "markdown",
   "id": "24d15254",
   "metadata": {},
   "source": [
    "    5. How does the map of scores-loadings explains the reason that your company uses the raw material from Isle Thorns and Ashley Rails to manufacture Product B?\n",
    "    \n",
    "    \n",
    " <div style='color:darkgreen'> Based on the clusters in the map, the compositions of Isle Thorns and Ashley Rails's raw materials are similar, both contain high concentration of AI (Aluminum) and both contain low concentration of other ingredients(Ca-Fe-Mg-Na), even less than average. \n",
    "    \n",
    "    \n",
    "   "
   ]
  },
  {
   "cell_type": "markdown",
   "id": "2d181c5c",
   "metadata": {},
   "source": [
    "    6. Is the raw material from Caldicot a good replacement for Llanedyrn? Yes or no and why?\n",
    "    \n",
    " <div style='color:darkgreen'> No, raw material from Caldicot is not a good replacement for Llanedyrn. Although, elements from Caldicot close to the majority of samples from Llanedyrn. The detaill proportions are different, for example, Llanedyrn have very high concentration of Na, but the Na of Caldicot is on the average level.\n",
    "    "
   ]
  },
  {
   "cell_type": "markdown",
   "id": "e233b3c5",
   "metadata": {},
   "source": [
    "    7. What are the biggest differences in the two big clusters? How are the two samples from the candidate Caldicot different than the Llanedyrn samples?\n",
    "    \n",
    "<div style='color:darkgreen'> The first big clusters include the samples from Isle Thorns and Ashley Rails, they contain high concentration of AI, but low concentration on other elements. On the second big cluster include the samples from Llanedyrn has opposite concentration distribution. And Llanedyrn has all four major components of Na, Fe, Mg and Ca which make these two sources very different, however, Caldicot potentially have relatively large amount of Ca."
   ]
  },
  {
   "cell_type": "markdown",
   "id": "f34a923e",
   "metadata": {},
   "source": [
    "    8. Confirm the answers by producing the boxplot of the 5 variables grouped by the site of the raw material shown below.\n"
   ]
  },
  {
   "cell_type": "code",
   "execution_count": 10,
   "id": "32a5c5e9",
   "metadata": {},
   "outputs": [
    {
     "data": {
      "image/png": "[encoded data removed]",
      "text/plain": [
       "<Figure size 936x936 with 6 Axes>"
      ]
     },
     "metadata": {
      "needs_background": "light"
     },
     "output_type": "display_data"
    }
   ],
   "source": [
    "\n",
    "elements = ['Al', 'Fe', 'Mg', 'Ca', 'Na']\n",
    "\n",
    "fig, axes = plt.subplots(nrows=2, ncols=3,figsize=(13,13))\n",
    "for i in range(5):\n",
    "    if i < 3:\n",
    "        pottery[['Site',elements[i]]].boxplot(by='Site',ax=axes[0,i])\n",
    "    else:\n",
    "        pottery[['Site',elements[i]]].boxplot(by='Site',ax=axes[1,i-3])\n"
   ]
  }
 ],
 "metadata": {
  "kernelspec": {
   "display_name": "Python 3 (ipykernel)",
   "language": "python",
   "name": "python3"
  },
  "language_info": {
   "codemirror_mode": {
    "name": "ipython",
    "version": 3
   },
   "file_extension": ".py",
   "mimetype": "text/x-python",
   "name": "python",
   "nbconvert_exporter": "python",
   "pygments_lexer": "ipython3",
   "version": "3.7.6"
  }
 },
 "nbformat": 4,
 "nbformat_minor": 5
}
