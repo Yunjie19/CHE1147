{
 "cells": [
  {
   "cell_type": "markdown",
   "id": "4b3da130",
   "metadata": {},
   "source": [
    "# <center> CHE1147 Programming Assignment 1 <center>\n",
    "\n",
    "#### <center> Yunjie Xu 1008601951<center> "
   ]
  },
  {
   "cell_type": "code",
   "execution_count": 170,
   "id": "73cb15ec",
   "metadata": {},
   "outputs": [],
   "source": [
    "import numpy as np\n",
    "import pandas as pd\n",
    "import matplotlib.pyplot as plt"
   ]
  },
  {
   "cell_type": "markdown",
   "id": "78c083fd",
   "metadata": {},
   "source": [
    "## 1. Python data structures and other essentials\n",
    "### 1.1 Tuples\n",
    "* **1.** Create the tuple named **apps_tuple** with the string elements ”Google”, ”Facebook”, ”Amazon”, ”Netflix”, ”AirBnB”, ”Instagram”."
   ]
  },
  {
   "cell_type": "code",
   "execution_count": 2,
   "id": "5592851c",
   "metadata": {},
   "outputs": [],
   "source": [
    "apps_tuple = ('Google','Facebook','Amazon','Netflix','AirBnB','Instagram')"
   ]
  },
  {
   "cell_type": "markdown",
   "id": "7dd7a22b",
   "metadata": {},
   "source": [
    "* **2.** Extract the second element by using its index **and** the last element by using its **negative** index."
   ]
  },
  {
   "cell_type": "code",
   "execution_count": 3,
   "id": "da605d3b",
   "metadata": {},
   "outputs": [
    {
     "data": {
      "text/plain": [
       "'Facebook'"
      ]
     },
     "execution_count": 3,
     "metadata": {},
     "output_type": "execute_result"
    }
   ],
   "source": [
    "# second element\n",
    "apps_tuple[1]"
   ]
  },
  {
   "cell_type": "code",
   "execution_count": 4,
   "id": "3a1af1ba",
   "metadata": {},
   "outputs": [
    {
     "data": {
      "text/plain": [
       "'Instagram'"
      ]
     },
     "execution_count": 4,
     "metadata": {},
     "output_type": "execute_result"
    }
   ],
   "source": [
    "# last element\n",
    "apps_tuple[-1]"
   ]
  },
  {
   "cell_type": "markdown",
   "id": "a737e4b6",
   "metadata": {},
   "source": [
    "* **3.** Slice the elements from ”Facebook” to ”Netflix” **inclusive** on both ends."
   ]
  },
  {
   "cell_type": "code",
   "execution_count": 5,
   "id": "3cf5e04a",
   "metadata": {},
   "outputs": [
    {
     "data": {
      "text/plain": [
       "('Facebook', 'Amazon', 'Netflix')"
      ]
     },
     "execution_count": 5,
     "metadata": {},
     "output_type": "execute_result"
    }
   ],
   "source": [
    "apps_tuple[1:4]"
   ]
  },
  {
   "cell_type": "markdown",
   "id": "2ac5ebb1",
   "metadata": {},
   "source": [
    "* **4.** Try appending the element ”Messenger” to the tuple. What do you observe? Why?\n",
    "\n",
    "  <font color='green'>A tuple is a fixed-length,immutable sequence of python objeccts, you can't apply append() method to the tuple. But     you can concatenate tuples using + operator to produce a longer tuples.</font> "
   ]
  },
  {
   "cell_type": "code",
   "execution_count": 6,
   "id": "6334cfd4",
   "metadata": {},
   "outputs": [
    {
     "ename": "AttributeError",
     "evalue": "'tuple' object has no attribute 'append'",
     "output_type": "error",
     "traceback": [
      "\u001b[0;31m---------------------------------------------------------------------------\u001b[0m",
      "\u001b[0;31mAttributeError\u001b[0m                            Traceback (most recent call last)",
      "\u001b[0;32m/var/folders/_9/1gs4plq92y5cp66ljqdxfl400000gn/T/ipykernel_77384/1754790747.py\u001b[0m in \u001b[0;36m<module>\u001b[0;34m\u001b[0m\n\u001b[0;32m----> 1\u001b[0;31m \u001b[0mapps_tuple\u001b[0m\u001b[0;34m.\u001b[0m\u001b[0mappend\u001b[0m\u001b[0;34m(\u001b[0m\u001b[0;34m'Messenger'\u001b[0m\u001b[0;34m)\u001b[0m\u001b[0;34m\u001b[0m\u001b[0;34m\u001b[0m\u001b[0m\n\u001b[0m",
      "\u001b[0;31mAttributeError\u001b[0m: 'tuple' object has no attribute 'append'"
     ]
    }
   ],
   "source": [
    "apps_tuple.append('Messenger')"
   ]
  },
  {
   "cell_type": "code",
   "execution_count": 7,
   "id": "9ad73fb0",
   "metadata": {},
   "outputs": [
    {
     "data": {
      "text/plain": [
       "('Google', 'Facebook', 'Amazon', 'Netflix', 'AirBnB', 'Instagram', 'Messenger')"
      ]
     },
     "execution_count": 7,
     "metadata": {},
     "output_type": "execute_result"
    }
   ],
   "source": [
    "apps_tuple + ('Messenger',)"
   ]
  },
  {
   "cell_type": "markdown",
   "id": "99e94c85",
   "metadata": {},
   "source": [
    "### 1.2 Lists\n",
    "* **1.** Define the list **apps_list** with the same elements as the tuple above."
   ]
  },
  {
   "cell_type": "code",
   "execution_count": 8,
   "id": "29e360be",
   "metadata": {},
   "outputs": [],
   "source": [
    "apps_list = ['Google','Facebook','Amazon','Netflix','AirBnB','Instagram']"
   ]
  },
  {
   "cell_type": "markdown",
   "id": "4c345c65",
   "metadata": {},
   "source": [
    "* **2.** Slice the first three elements of the list with the **shorthand** syntax, i.e. **not** by typing explicitly all the indexes 0, 1, and 2; use the symbol : instead."
   ]
  },
  {
   "cell_type": "code",
   "execution_count": 9,
   "id": "61b8b81d",
   "metadata": {},
   "outputs": [
    {
     "data": {
      "text/plain": [
       "['Google', 'Facebook', 'Amazon']"
      ]
     },
     "execution_count": 9,
     "metadata": {},
     "output_type": "execute_result"
    }
   ],
   "source": [
    "apps_list[:3]"
   ]
  },
  {
   "cell_type": "markdown",
   "id": "0551a02f",
   "metadata": {},
   "source": [
    "* **3.**  Slice all the elements after index 3 inclusively with the shorthand syntax."
   ]
  },
  {
   "cell_type": "code",
   "execution_count": 10,
   "id": "584f7595",
   "metadata": {},
   "outputs": [
    {
     "data": {
      "text/plain": [
       "['Netflix', 'AirBnB', 'Instagram']"
      ]
     },
     "execution_count": 10,
     "metadata": {},
     "output_type": "execute_result"
    }
   ],
   "source": [
    "apps_list[3:]"
   ]
  },
  {
   "cell_type": "markdown",
   "id": "a1a0f7bd",
   "metadata": {},
   "source": [
    "* **4.** Append the element ’Messenger’ to the end of the list and insert the element ’Youtube’ at index 1."
   ]
  },
  {
   "cell_type": "code",
   "execution_count": 11,
   "id": "61bdaad1",
   "metadata": {},
   "outputs": [
    {
     "data": {
      "text/plain": [
       "['Google',\n",
       " 'YouTube',\n",
       " 'Facebook',\n",
       " 'Amazon',\n",
       " 'Netflix',\n",
       " 'AirBnB',\n",
       " 'Instagram',\n",
       " 'Messenger']"
      ]
     },
     "execution_count": 11,
     "metadata": {},
     "output_type": "execute_result"
    }
   ],
   "source": [
    "apps_list.append('Messenger')\n",
    "apps_list.insert(1,'YouTube')\n",
    "apps_list"
   ]
  },
  {
   "cell_type": "markdown",
   "id": "88cdc578",
   "metadata": {},
   "source": [
    "* **5.** Remove element ’Facebook’ and confirm with the function in whether ’Facebook’ has been removed from the list."
   ]
  },
  {
   "cell_type": "code",
   "execution_count": 12,
   "id": "8282bad5",
   "metadata": {},
   "outputs": [
    {
     "data": {
      "text/plain": [
       "['Google', 'YouTube', 'Amazon', 'Netflix', 'AirBnB', 'Instagram', 'Messenger']"
      ]
     },
     "execution_count": 12,
     "metadata": {},
     "output_type": "execute_result"
    }
   ],
   "source": [
    "apps_list.remove('Facebook')\n",
    "apps_list"
   ]
  },
  {
   "cell_type": "code",
   "execution_count": 13,
   "id": "babb125a",
   "metadata": {},
   "outputs": [
    {
     "name": "stdout",
     "output_type": "stream",
     "text": [
      "False\n"
     ]
    }
   ],
   "source": [
    "print('Facebook' in apps_list)  ##  ’Facebook’ has been removed from the list."
   ]
  },
  {
   "cell_type": "markdown",
   "id": "34eb78af",
   "metadata": {},
   "source": [
    "* **6.** Concatenate the last list with the list [’Linkedin’, ’Twitter’]."
   ]
  },
  {
   "cell_type": "code",
   "execution_count": 14,
   "id": "005e1acb",
   "metadata": {},
   "outputs": [
    {
     "data": {
      "text/plain": [
       "['Google',\n",
       " 'YouTube',\n",
       " 'Amazon',\n",
       " 'Netflix',\n",
       " 'AirBnB',\n",
       " 'Instagram',\n",
       " 'Messenger',\n",
       " 'Linkedin',\n",
       " 'Twitter']"
      ]
     },
     "execution_count": 14,
     "metadata": {},
     "output_type": "execute_result"
    }
   ],
   "source": [
    "apps_list + ['Linkedin','Twitter']\n"
   ]
  },
  {
   "cell_type": "markdown",
   "id": "a18e9548",
   "metadata": {},
   "source": [
    "### 1.3 Dicts \n",
    "* **1.** Create the dict named apps dict with the same values as in 1.1.1. and keys: app0, app1, etc"
   ]
  },
  {
   "cell_type": "code",
   "execution_count": 15,
   "id": "3b802029",
   "metadata": {},
   "outputs": [],
   "source": [
    "apps_dict = {'app0': 'Google',\n",
    "             'app1': 'Facebook',\n",
    "             'app2': 'Amazon',\n",
    "             'app3': 'Netflix',\n",
    "             'app4': 'AirBnB',\n",
    "             'app5': 'Instagram'}    # 'Google','Facebook','Amazon','Netflix','AirBnB','Instagram'"
   ]
  },
  {
   "cell_type": "markdown",
   "id": "3007903d",
   "metadata": {},
   "source": [
    "* **2.** Access the element with key app1; then replace its value with ’Youtube’."
   ]
  },
  {
   "cell_type": "code",
   "execution_count": 16,
   "id": "aa6191dc",
   "metadata": {},
   "outputs": [
    {
     "data": {
      "text/plain": [
       "'Facebook'"
      ]
     },
     "execution_count": 16,
     "metadata": {},
     "output_type": "execute_result"
    }
   ],
   "source": [
    "apps_dict['app1']"
   ]
  },
  {
   "cell_type": "code",
   "execution_count": 17,
   "id": "4b809382",
   "metadata": {},
   "outputs": [
    {
     "data": {
      "text/plain": [
       "{'app0': 'Google',\n",
       " 'app1': 'Youtube',\n",
       " 'app2': 'Amazon',\n",
       " 'app3': 'Netflix',\n",
       " 'app4': 'AirBnB',\n",
       " 'app5': 'Instagram'}"
      ]
     },
     "execution_count": 17,
     "metadata": {},
     "output_type": "execute_result"
    }
   ],
   "source": [
    "apps_dict['app1'] = 'Youtube'\n",
    "apps_dict"
   ]
  },
  {
   "cell_type": "markdown",
   "id": "1cb14077",
   "metadata": {},
   "source": [
    "* **3.** Add a new key-value pair: app6-Messenger."
   ]
  },
  {
   "cell_type": "code",
   "execution_count": 18,
   "id": "ac4a8e7b",
   "metadata": {},
   "outputs": [
    {
     "data": {
      "text/plain": [
       "{'app0': 'Google',\n",
       " 'app1': 'Youtube',\n",
       " 'app2': 'Amazon',\n",
       " 'app3': 'Netflix',\n",
       " 'app4': 'AirBnB',\n",
       " 'app5': 'Instagram',\n",
       " 'app6': 'Messenger'}"
      ]
     },
     "execution_count": 18,
     "metadata": {},
     "output_type": "execute_result"
    }
   ],
   "source": [
    "apps_dict['app6'] = 'Messenger'\n",
    "apps_dict"
   ]
  },
  {
   "cell_type": "markdown",
   "id": "95c6f5db",
   "metadata": {},
   "source": [
    "* **4.** What does the syntax: apps dict[”app1”]=”Messenger” do?"
   ]
  },
  {
   "cell_type": "code",
   "execution_count": 19,
   "id": "612d2c75",
   "metadata": {},
   "outputs": [
    {
     "data": {
      "text/plain": [
       "{'app0': 'Google',\n",
       " 'app1': 'Messenger',\n",
       " 'app2': 'Amazon',\n",
       " 'app3': 'Netflix',\n",
       " 'app4': 'AirBnB',\n",
       " 'app5': 'Instagram',\n",
       " 'app6': 'Messenger'}"
      ]
     },
     "execution_count": 19,
     "metadata": {},
     "output_type": "execute_result"
    }
   ],
   "source": [
    "apps_dict['app1'] = 'Messenger'\n",
    "apps_dict"
   ]
  },
  {
   "cell_type": "markdown",
   "id": "2b9aa523",
   "metadata": {},
   "source": [
    " <font color='green'>The original value of key 'app1'is 'Youtube', which was replaced by the new value 'Messenger' in this case.</font> "
   ]
  },
  {
   "cell_type": "markdown",
   "id": "a9360059",
   "metadata": {},
   "source": [
    "* **5.** What does the syntax: apps dict[”App1”]=”Facebook” do? Why?"
   ]
  },
  {
   "cell_type": "code",
   "execution_count": 20,
   "id": "2aa6ce68",
   "metadata": {},
   "outputs": [
    {
     "data": {
      "text/plain": [
       "{'app0': 'Google',\n",
       " 'app1': 'Messenger',\n",
       " 'app2': 'Amazon',\n",
       " 'app3': 'Netflix',\n",
       " 'app4': 'AirBnB',\n",
       " 'app5': 'Instagram',\n",
       " 'app6': 'Messenger',\n",
       " 'APP1': 'Facebook'}"
      ]
     },
     "execution_count": 20,
     "metadata": {},
     "output_type": "execute_result"
    }
   ],
   "source": [
    "apps_dict['APP1'] = 'Facebook'\n",
    "apps_dict"
   ]
  },
  {
   "cell_type": "markdown",
   "id": "9b7e1ff6",
   "metadata": {},
   "source": [
    "<font color='green'> You create a new kye-value pair to the dictionary **apps_dict** in this case, because the key 'APP1' does not exist in the original **apps_dict** 's key.</font> "
   ]
  },
  {
   "cell_type": "code",
   "execution_count": 21,
   "id": "8b6e381b",
   "metadata": {},
   "outputs": [
    {
     "data": {
      "text/plain": [
       "{'app0': 'Google',\n",
       " 'app1': 'Messenger',\n",
       " 'app2': 'Amazon',\n",
       " 'app3': 'Netflix',\n",
       " 'app4': 'AirBnB',\n",
       " 'app5': 'Instagram',\n",
       " 'app6': 'Messenger'}"
      ]
     },
     "execution_count": 21,
     "metadata": {},
     "output_type": "execute_result"
    }
   ],
   "source": [
    "del apps_dict['APP1']\n",
    "apps_dict"
   ]
  },
  {
   "cell_type": "markdown",
   "id": "d75e46d5",
   "metadata": {},
   "source": [
    "<font color='green'> **del** operation will remove the appointed key-value pair, in this case the corresponding 'APP1' 'Facebook' was been removed.</font> "
   ]
  },
  {
   "cell_type": "markdown",
   "id": "ce27ccab",
   "metadata": {},
   "source": [
    "### 1.4 List comprehension\n",
    "* **1.** Create the list named values with integers: 7, 12, 9, 18, 15."
   ]
  },
  {
   "cell_type": "code",
   "execution_count": 22,
   "id": "ae383c4d",
   "metadata": {},
   "outputs": [
    {
     "data": {
      "text/plain": [
       "[7, 12, 9, 18, 15]"
      ]
     },
     "execution_count": 22,
     "metadata": {},
     "output_type": "execute_result"
    }
   ],
   "source": [
    "values = [7,12,9,18,15]\n",
    "values"
   ]
  },
  {
   "cell_type": "markdown",
   "id": "bce38d1f",
   "metadata": {},
   "source": [
    "* **2.** Create a list comprehension that takes the object values and returns the square of every value."
   ]
  },
  {
   "cell_type": "code",
   "execution_count": 23,
   "id": "5c18fa3b",
   "metadata": {},
   "outputs": [
    {
     "data": {
      "text/plain": [
       "[49, 144, 81, 324, 225]"
      ]
     },
     "execution_count": 23,
     "metadata": {},
     "output_type": "execute_result"
    }
   ],
   "source": [
    "[i**2 for i in values]"
   ]
  },
  {
   "cell_type": "code",
   "execution_count": 24,
   "id": "982dccec",
   "metadata": {},
   "outputs": [
    {
     "data": {
      "text/plain": [
       "[49, 144, 81, 324, 225]"
      ]
     },
     "execution_count": 24,
     "metadata": {},
     "output_type": "execute_result"
    }
   ],
   "source": [
    "values = [7,12,9,18,15]\n",
    "\n",
    "new_values = []\n",
    "for i in values:\n",
    "    i = i*i\n",
    "    new_values.append(i)\n",
    "    \n",
    "new_values"
   ]
  },
  {
   "cell_type": "markdown",
   "id": "3edbb271",
   "metadata": {},
   "source": [
    "### 1.5 Functions and control flow\n",
    "* **1.** Generate a sample of 10 random integer numbers between 600 and 900 (hint: use Numpy’s random integers function)."
   ]
  },
  {
   "cell_type": "code",
   "execution_count": 25,
   "id": "a5c708eb",
   "metadata": {},
   "outputs": [
    {
     "data": {
      "text/plain": [
       "array([814, 626, 674, 678, 843, 763, 895, 895, 680, 717])"
      ]
     },
     "execution_count": 25,
     "metadata": {},
     "output_type": "execute_result"
    }
   ],
   "source": [
    "# random.randint(low, high=None, size=None, dtype=int)\n",
    "SampleList = np.random.randint(600,901, size = 10, dtype=int)  \n",
    "SampleList\n",
    "##  Return random integers from low (inclusive) to high (exclusive). That is why I need set the high value to be 901,which make 900 to be included. "
   ]
  },
  {
   "cell_type": "markdown",
   "id": "1537b425",
   "metadata": {},
   "source": [
    "* **2.** Create a function called **credit_score** that reads the sample and returns the output ’Low’ when the input is [600, 699], ’Medium’ when in [700, 799] and ’High’ when in [800, 900].\n"
   ]
  },
  {
   "cell_type": "code",
   "execution_count": 26,
   "id": "e2210d84",
   "metadata": {},
   "outputs": [
    {
     "name": "stdout",
     "output_type": "stream",
     "text": [
      "High\n",
      "Low\n",
      "Low\n",
      "Low\n",
      "High\n",
      "Medium\n",
      "High\n",
      "High\n",
      "Low\n",
      "Medium\n"
     ]
    }
   ],
   "source": [
    "def credit_score(SampleList):\n",
    "    for i in SampleList:\n",
    "        if i >= 600 and i <= 699:\n",
    "            print('Low') \n",
    "        elif i >= 700 and i <= 799:\n",
    "            print('Medium')\n",
    "        else:\n",
    "            print('High')\n",
    "                  \n",
    "## Test the function\n",
    "credit_score(SampleList)"
   ]
  },
  {
   "cell_type": "markdown",
   "id": "02664323",
   "metadata": {},
   "source": [
    "## 2. Linear algebra in Numpy\n",
    "### 2.1 Matrix calculations\n",
    "* **1.** Create matrices **A** and **B** as numpy arrays and calculate **2A**, **-3B** and **A+B**.\n",
    "\n",
    "$$A = \\begin{bmatrix}2 & 1\\\\\n",
    "1 & 1\\\\\n",
    "2 & 3\n",
    "\\end{bmatrix} $$\n",
    "\n",
    "\n",
    "$$ B = \\begin{bmatrix}-4 & 1\\\\\n",
    "3 & -1\\\\\n",
    "-2 & 1\n",
    "\\end{bmatrix}$$\n",
    "\n"
   ]
  },
  {
   "cell_type": "code",
   "execution_count": 6,
   "id": "b05bc70a",
   "metadata": {},
   "outputs": [
    {
     "name": "stdout",
     "output_type": "stream",
     "text": [
      "[[2 1]\n",
      " [1 1]\n",
      " [2 3]]\n",
      "[[-4  1]\n",
      " [ 3 -1]\n",
      " [-2  1]]\n"
     ]
    }
   ],
   "source": [
    "## Create matrices A and B \n",
    "A = np.array([[2,1],[1,1],[2,3]])\n",
    "print(A)\n",
    "\n",
    "B = np.array([[-4,1],[3,-1],[-2,1]])\n",
    "print(B)"
   ]
  },
  {
   "cell_type": "code",
   "execution_count": 7,
   "id": "036ec748",
   "metadata": {},
   "outputs": [
    {
     "data": {
      "text/plain": [
       "array([[4, 2],\n",
       "       [2, 2],\n",
       "       [4, 6]])"
      ]
     },
     "execution_count": 7,
     "metadata": {},
     "output_type": "execute_result"
    }
   ],
   "source": [
    "# 2A\n",
    "2*A"
   ]
  },
  {
   "cell_type": "code",
   "execution_count": 8,
   "id": "bc9828be",
   "metadata": {},
   "outputs": [
    {
     "data": {
      "text/plain": [
       "array([[12, -3],\n",
       "       [-9,  3],\n",
       "       [ 6, -3]])"
      ]
     },
     "execution_count": 8,
     "metadata": {},
     "output_type": "execute_result"
    }
   ],
   "source": [
    "# -3B\n",
    "-3*B"
   ]
  },
  {
   "cell_type": "code",
   "execution_count": 9,
   "id": "3974ba02",
   "metadata": {},
   "outputs": [
    {
     "data": {
      "text/plain": [
       "array([[-2,  2],\n",
       "       [ 4,  0],\n",
       "       [ 0,  4]])"
      ]
     },
     "execution_count": 9,
     "metadata": {},
     "output_type": "execute_result"
    }
   ],
   "source": [
    "# A+B\n",
    "A+B"
   ]
  },
  {
   "cell_type": "markdown",
   "id": "4b86d329",
   "metadata": {},
   "source": [
    "* **2.** Create matrices **A** and **B** as numpy arrays and calculate **A*B** and the inverse of **B**.\n",
    "\n",
    "$$A = \\begin{bmatrix}2 & -6\\\\\n",
    "-4 & 0\\\\\n",
    "2 & 5\n",
    "\\end{bmatrix} $$\n",
    "\n",
    "$$ B = \\begin{bmatrix}1 & 1\\\\\\ 2 & 3\\end{bmatrix} $$\n",
    "\n",
    "\n"
   ]
  },
  {
   "cell_type": "code",
   "execution_count": 10,
   "id": "1bb2b2c6",
   "metadata": {},
   "outputs": [
    {
     "name": "stdout",
     "output_type": "stream",
     "text": [
      "[[ 2 -6]\n",
      " [-4  0]\n",
      " [ 1  5]]\n",
      "[[1 1]\n",
      " [2 3]]\n"
     ]
    }
   ],
   "source": [
    "## Create matrices A and B \n",
    "A = np.array([[2,-6],[-4,0],[1,5]])\n",
    "print(A)\n",
    "\n",
    "B = np.array([[1,1],[2,3]])\n",
    "print(B)"
   ]
  },
  {
   "cell_type": "code",
   "execution_count": 11,
   "id": "2fda4f7c",
   "metadata": {},
   "outputs": [
    {
     "data": {
      "text/plain": [
       "array([[-10, -16],\n",
       "       [ -4,  -4],\n",
       "       [ 11,  16]])"
      ]
     },
     "execution_count": 11,
     "metadata": {},
     "output_type": "execute_result"
    }
   ],
   "source": [
    "# A*B\n",
    "np.dot(A,B)"
   ]
  },
  {
   "cell_type": "code",
   "execution_count": 12,
   "id": "772c1eba",
   "metadata": {},
   "outputs": [
    {
     "data": {
      "text/plain": [
       "array([[ 3., -1.],\n",
       "       [-2.,  1.]])"
      ]
     },
     "execution_count": 12,
     "metadata": {},
     "output_type": "execute_result"
    }
   ],
   "source": [
    "# inverse of B\n",
    "np.linalg.inv(B)"
   ]
  },
  {
   "cell_type": "markdown",
   "id": "b082487c",
   "metadata": {},
   "source": [
    "* **3.** Replace the values of the elements with abs(value)≥3 with the value 3. Also, calculate\n",
    "the **determinant** of the original matrix A\n",
    "\n",
    "$$A = \\begin{bmatrix}1 & 0 & 4 & 1\\\\\n",
    "-2 & 1 & -3 & 2\\\\\n",
    "0 & 0 & 0 & 2\\\\\n",
    "3 & 2 & 1 & -1\n",
    "\\end{bmatrix}$$\n"
   ]
  },
  {
   "cell_type": "code",
   "execution_count": 13,
   "id": "be74e148",
   "metadata": {},
   "outputs": [
    {
     "name": "stdout",
     "output_type": "stream",
     "text": [
      "[[ 1  0  4  1]\n",
      " [-2  1 -3  2]\n",
      " [ 0  0  0  2]\n",
      " [ 3  2  1 -1]]\n"
     ]
    }
   ],
   "source": [
    "# Create matrix A\n",
    "A = np.array([\n",
    "    [1,0,4,1],\n",
    "    [-2,1,-3,2],\n",
    "    [0,0,0,2],\n",
    "    [3,2,1,-1]\n",
    "])\n",
    "print(A)"
   ]
  },
  {
   "cell_type": "code",
   "execution_count": 14,
   "id": "01b6a1f2",
   "metadata": {},
   "outputs": [
    {
     "data": {
      "text/plain": [
       "array([[ 1,  0,  3,  1],\n",
       "       [-2,  1,  3,  2],\n",
       "       [ 0,  0,  0,  2],\n",
       "       [ 3,  2,  1, -1]])"
      ]
     },
     "execution_count": 14,
     "metadata": {},
     "output_type": "execute_result"
    }
   ],
   "source": [
    "# Replace the values\n",
    "A[np.abs(A)>=3]=3\n",
    "A"
   ]
  },
  {
   "cell_type": "code",
   "execution_count": 15,
   "id": "24c10f57",
   "metadata": {},
   "outputs": [
    {
     "data": {
      "text/plain": [
       "42.00000000000001"
      ]
     },
     "execution_count": 15,
     "metadata": {},
     "output_type": "execute_result"
    }
   ],
   "source": [
    "# calculate the determinant of the original matrix A\n",
    "A = np.array([\n",
    "    [1,0,4,1],\n",
    "    [-2,1,-3,2],\n",
    "    [0,0,0,2],\n",
    "    [3,2,1,-1]\n",
    "])\n",
    "\n",
    "np.linalg.det(A)"
   ]
  },
  {
   "cell_type": "markdown",
   "id": "4b7da3bf",
   "metadata": {},
   "source": [
    "### 2.2 Norms and eigenvalues\n",
    "* **1.** Calculate the maximum and **Euclidean** or **Frobenius** norm of each of the three\n",
    "vectors:\n",
    "\n",
    "$$ x_1 =\\begin{bmatrix} 1 & -2 & 3 \\end{bmatrix}^T \\;\\;\n",
    "   x_2 =\\begin{bmatrix} 2 & 0 & -1 & 2 \\end{bmatrix}^T  \\;\\;\n",
    "   x_3 =\\begin{bmatrix} 0 & 1 & -4 & 2 & -1 \\end{bmatrix}^T $$ \n"
   ]
  },
  {
   "cell_type": "code",
   "execution_count": 28,
   "id": "a2583355",
   "metadata": {},
   "outputs": [
    {
     "name": "stdout",
     "output_type": "stream",
     "text": [
      "The x_1's maximum Euclidean norm is 3.0, and Frobenius norm is 3.7416573867739413.\n",
      "The x_2's maximum Euclidean norm is 2.0, and Frobenius norm is 3.0.\n",
      "The x_2's maximum Euclidean norm is 4.0, and Frobenius norm is 4.242640687119285.\n"
     ]
    }
   ],
   "source": [
    "# create x_1\n",
    "x_1 = np.matrix.transpose(np.array([1,-2,3]))\n",
    "\n",
    "print(f\"The x_1's maximum Euclidean norm is {np.linalg.norm(x_1,ord = np.inf)}, and Frobenius norm is {np.linalg.norm(x_1)}.\")\n",
    "               \n",
    "# np.linalg.norm(x_1,ord = np.inf)\n",
    "# np.linalg.norm(x_1)\n",
    "\n",
    "\n",
    "# create x_2\n",
    "x_2 = np.matrix.transpose(np.array([2,0,-1,2])) \n",
    "\n",
    "print(f\"The x_2's maximum Euclidean norm is {np.linalg.norm(x_2,ord = np.inf)}, and Frobenius norm is {np.linalg.norm(x_2)}.\")\n",
    "\n",
    "\n",
    "# create x_3\n",
    "x_3 = np.matrix.transpose(np.array([0,1,-4,2-1])) \n",
    "\n",
    "print(f\"The x_2's maximum Euclidean norm is {np.linalg.norm(x_3,ord = np.inf)}, and Frobenius norm is {np.linalg.norm(x_3)}.\")\n"
   ]
  },
  {
   "cell_type": "markdown",
   "id": "e8520a9b",
   "metadata": {},
   "source": [
    "* **2.** Calculate the **l<sub>2</sub>** and **l<sub>∞</sub>** norms of the matrices:\n",
    "\n",
    "\n",
    "$$ A_1 = \\begin{bmatrix}1 & -2\\\\\\ 4 & 3\\end{bmatrix} $$\n",
    "\n",
    "$$A_2 = \\begin{bmatrix}1 & 0 & 2\\\\\n",
    "0 & 1 & -1\\\\\n",
    "-1 & 1 & 1\n",
    "\\end{bmatrix} $$\n"
   ]
  },
  {
   "cell_type": "code",
   "execution_count": 36,
   "id": "0fa2d66a",
   "metadata": {},
   "outputs": [
    {
     "name": "stdout",
     "output_type": "stream",
     "text": [
      "The A_1's L2 norm is 5.0197648378370845, and L∞ norm is 7.0.\n",
      "The A_1's L2 norm is 2.4998281017161057, and L∞ norm is 3.0.\n"
     ]
    }
   ],
   "source": [
    "# create matrix \n",
    "A_1 = np.array([[1,-2],[4,3]])\n",
    "\n",
    "print(f\"The A_1's L2 norm is {np.linalg.norm(A_1,ord = 2)}, and L∞ norm is {np.linalg.norm(A_1,ord = np.inf)}.\")\n",
    "\n",
    "# create matrix \n",
    "A_2 = np.array([[1,0,2],[0,1,-1],[-1,1,1]])\n",
    "print(f\"The A_1's L2 norm is {np.linalg.norm(A_2,ord = 2)}, and L∞ norm is {np.linalg.norm(A_2,ord = np.inf)}.\")\n",
    "\n",
    "## L2 norm = Euclidean norm"
   ]
  },
  {
   "cell_type": "markdown",
   "id": "f5cec91f",
   "metadata": {},
   "source": [
    "* **3.** Calculate the **eigenvalues** of the matrix:\n",
    "\n",
    "$$A = \\begin{bmatrix}-2 & -2 & 3\\\\\n",
    "-10 & -1 & 6\\\\\n",
    "10 & -2 & -9\n",
    "\\end{bmatrix} $$\n"
   ]
  },
  {
   "cell_type": "code",
   "execution_count": 42,
   "id": "3b70b706",
   "metadata": {},
   "outputs": [
    {
     "name": "stdout",
     "output_type": "stream",
     "text": [
      "The eigenvalues of the matrix A is [  3. -12.  -3.]\n"
     ]
    }
   ],
   "source": [
    "# create matrix \n",
    "A = np.array([[-2,-2,3],[-10,-1,6],[10,-2,-9]])\n",
    "\n",
    "print(f\"The eigenvalues of the matrix A is {np.linalg.eigvals(A)}\")"
   ]
  },
  {
   "cell_type": "markdown",
   "id": "55ae93e0",
   "metadata": {},
   "source": [
    "## 3. Pandas manipulations\n",
    "\n",
    "**1.** Import file **Gas_prices.xls** as a pandas DataFrame. Create a function that replaces NaN with the interpolation between the adjacent values (i.e. the prior and the subse- quent to the NaN). Do **not** use existing interpolation functions, built your own."
   ]
  },
  {
   "cell_type": "code",
   "execution_count": 231,
   "id": "1a809c60",
   "metadata": {},
   "outputs": [
    {
     "name": "stderr",
     "output_type": "stream",
     "text": [
      "/Users/xuyunjie/opt/anaconda3/envs/py37/lib/python3.7/site-packages/openpyxl/worksheet/_reader.py:312: UserWarning: Unknown extension is not supported and will be removed\n",
      "  warn(msg)\n"
     ]
    },
    {
     "data": {
      "text/html": [
       "<div>\n",
       "<style scoped>\n",
       "    .dataframe tbody tr th:only-of-type {\n",
       "        vertical-align: middle;\n",
       "    }\n",
       "\n",
       "    .dataframe tbody tr th {\n",
       "        vertical-align: top;\n",
       "    }\n",
       "\n",
       "    .dataframe thead th {\n",
       "        text-align: right;\n",
       "    }\n",
       "</style>\n",
       "<table border=\"1\" class=\"dataframe\">\n",
       "  <thead>\n",
       "    <tr style=\"text-align: right;\">\n",
       "      <th></th>\n",
       "      <th>Date</th>\n",
       "      <th>Price_pl</th>\n",
       "    </tr>\n",
       "  </thead>\n",
       "  <tbody>\n",
       "    <tr>\n",
       "      <th>0</th>\n",
       "      <td>2015-11-12</td>\n",
       "      <td>1.049</td>\n",
       "    </tr>\n",
       "    <tr>\n",
       "      <th>1</th>\n",
       "      <td>2015-11-19</td>\n",
       "      <td>0.999</td>\n",
       "    </tr>\n",
       "    <tr>\n",
       "      <th>2</th>\n",
       "      <td>2015-12-07</td>\n",
       "      <td>0.999</td>\n",
       "    </tr>\n",
       "    <tr>\n",
       "      <th>3</th>\n",
       "      <td>2015-12-19</td>\n",
       "      <td>1.019</td>\n",
       "    </tr>\n",
       "    <tr>\n",
       "      <th>4</th>\n",
       "      <td>2016-01-04</td>\n",
       "      <td>1.019</td>\n",
       "    </tr>\n",
       "    <tr>\n",
       "      <th>...</th>\n",
       "      <td>...</td>\n",
       "      <td>...</td>\n",
       "    </tr>\n",
       "    <tr>\n",
       "      <th>77</th>\n",
       "      <td>2018-10-17</td>\n",
       "      <td>1.209</td>\n",
       "    </tr>\n",
       "    <tr>\n",
       "      <th>78</th>\n",
       "      <td>2018-11-01</td>\n",
       "      <td>1.196</td>\n",
       "    </tr>\n",
       "    <tr>\n",
       "      <th>79</th>\n",
       "      <td>2018-11-12</td>\n",
       "      <td>1.126</td>\n",
       "    </tr>\n",
       "    <tr>\n",
       "      <th>80</th>\n",
       "      <td>2018-11-27</td>\n",
       "      <td>1.059</td>\n",
       "    </tr>\n",
       "    <tr>\n",
       "      <th>81</th>\n",
       "      <td>2018-12-06</td>\n",
       "      <td>1.016</td>\n",
       "    </tr>\n",
       "  </tbody>\n",
       "</table>\n",
       "<p>82 rows × 2 columns</p>\n",
       "</div>"
      ],
      "text/plain": [
       "         Date  Price_pl\n",
       "0  2015-11-12     1.049\n",
       "1  2015-11-19     0.999\n",
       "2  2015-12-07     0.999\n",
       "3  2015-12-19     1.019\n",
       "4  2016-01-04     1.019\n",
       "..        ...       ...\n",
       "77 2018-10-17     1.209\n",
       "78 2018-11-01     1.196\n",
       "79 2018-11-12     1.126\n",
       "80 2018-11-27     1.059\n",
       "81 2018-12-06     1.016\n",
       "\n",
       "[82 rows x 2 columns]"
      ]
     },
     "execution_count": 231,
     "metadata": {},
     "output_type": "execute_result"
    }
   ],
   "source": [
    "# create the data frame\n",
    "df = pd.read_excel('Gas_prices.xlsx')\n",
    "df['Date'] = pd.to_datetime(df['Date'],format='%d/%m/%Y')\n",
    "df"
   ]
  },
  {
   "cell_type": "code",
   "execution_count": 232,
   "id": "6eb1f534",
   "metadata": {},
   "outputs": [
    {
     "data": {
      "text/html": [
       "<div>\n",
       "<style scoped>\n",
       "    .dataframe tbody tr th:only-of-type {\n",
       "        vertical-align: middle;\n",
       "    }\n",
       "\n",
       "    .dataframe tbody tr th {\n",
       "        vertical-align: top;\n",
       "    }\n",
       "\n",
       "    .dataframe thead th {\n",
       "        text-align: right;\n",
       "    }\n",
       "</style>\n",
       "<table border=\"1\" class=\"dataframe\">\n",
       "  <thead>\n",
       "    <tr style=\"text-align: right;\">\n",
       "      <th></th>\n",
       "      <th>Date</th>\n",
       "      <th>Price_pl</th>\n",
       "    </tr>\n",
       "  </thead>\n",
       "  <tbody>\n",
       "    <tr>\n",
       "      <th>0</th>\n",
       "      <td>2015-11-12</td>\n",
       "      <td>1.049</td>\n",
       "    </tr>\n",
       "    <tr>\n",
       "      <th>1</th>\n",
       "      <td>2015-11-19</td>\n",
       "      <td>0.999</td>\n",
       "    </tr>\n",
       "    <tr>\n",
       "      <th>2</th>\n",
       "      <td>2015-12-07</td>\n",
       "      <td>0.999</td>\n",
       "    </tr>\n",
       "    <tr>\n",
       "      <th>3</th>\n",
       "      <td>2015-12-19</td>\n",
       "      <td>1.019</td>\n",
       "    </tr>\n",
       "    <tr>\n",
       "      <th>4</th>\n",
       "      <td>2016-01-04</td>\n",
       "      <td>1.019</td>\n",
       "    </tr>\n",
       "    <tr>\n",
       "      <th>...</th>\n",
       "      <td>...</td>\n",
       "      <td>...</td>\n",
       "    </tr>\n",
       "    <tr>\n",
       "      <th>77</th>\n",
       "      <td>2018-10-17</td>\n",
       "      <td>1.209</td>\n",
       "    </tr>\n",
       "    <tr>\n",
       "      <th>78</th>\n",
       "      <td>2018-11-01</td>\n",
       "      <td>1.196</td>\n",
       "    </tr>\n",
       "    <tr>\n",
       "      <th>79</th>\n",
       "      <td>2018-11-12</td>\n",
       "      <td>1.126</td>\n",
       "    </tr>\n",
       "    <tr>\n",
       "      <th>80</th>\n",
       "      <td>2018-11-27</td>\n",
       "      <td>1.059</td>\n",
       "    </tr>\n",
       "    <tr>\n",
       "      <th>81</th>\n",
       "      <td>2018-12-06</td>\n",
       "      <td>1.016</td>\n",
       "    </tr>\n",
       "  </tbody>\n",
       "</table>\n",
       "<p>82 rows × 2 columns</p>\n",
       "</div>"
      ],
      "text/plain": [
       "         Date  Price_pl\n",
       "0  2015-11-12     1.049\n",
       "1  2015-11-19     0.999\n",
       "2  2015-12-07     0.999\n",
       "3  2015-12-19     1.019\n",
       "4  2016-01-04     1.019\n",
       "..        ...       ...\n",
       "77 2018-10-17     1.209\n",
       "78 2018-11-01     1.196\n",
       "79 2018-11-12     1.126\n",
       "80 2018-11-27     1.059\n",
       "81 2018-12-06     1.016\n",
       "\n",
       "[82 rows x 2 columns]"
      ]
     },
     "execution_count": 232,
     "metadata": {},
     "output_type": "execute_result"
    }
   ],
   "source": [
    "# define the function\n",
    "def ReplacesNaN(df):\n",
    "    for i in df[df['Price_pl'].isnull()].index:\n",
    "        num = (df.loc[i-1,'Price_pl'] + df.loc[i+1,'Price_pl'])/2\n",
    "        df.loc[i,'Price_pl'] = num\n",
    "    return df\n",
    " \n",
    "    \n",
    "# test the function\n",
    "ReplacesNaN(df)"
   ]
  },
  {
   "cell_type": "markdown",
   "id": "20eaf991",
   "metadata": {},
   "source": [
    "* **2.** Find the index, the date and the value of the min and max gas price."
   ]
  },
  {
   "cell_type": "code",
   "execution_count": 233,
   "id": "89a28b75",
   "metadata": {},
   "outputs": [
    {
     "name": "stdout",
     "output_type": "stream",
     "text": [
      "The max gas price index is 73, the date is 2018-05-23 00:00:00, the value is 1.336.\n",
      "The max gas price index is 9, the date is 2016-02-20 00:00:00, the value is 0.889.\n"
     ]
    }
   ],
   "source": [
    "## max gas price\n",
    "print(f\"The max gas price index is {df['Price_pl'].idxmax()}, the date is {df.loc[df['Price_pl'].idxmax(),'Date']}, the value is {df['Price_pl'].max()}.\")\n",
    "\n",
    "## min gas price\n",
    "print(f\"The max gas price index is {np.argmin(df.Price_pl)}, the date is {df.loc[np.argmin(df.Price_pl),'Date']}, the value is {df.loc[np.argmin(df.Price_pl),'Price_pl']}.\")\n"
   ]
  },
  {
   "cell_type": "markdown",
   "id": "cd482526",
   "metadata": {},
   "source": [
    "* **3.** Calculate the following descriptive statistics: mean, median, quantile, skewness and kurtosis."
   ]
  },
  {
   "cell_type": "code",
   "execution_count": 234,
   "id": "8884f678",
   "metadata": {},
   "outputs": [
    {
     "name": "stdout",
     "output_type": "stream",
     "text": [
      "Mean: 1.0953902439024386 \n",
      "Median: 1.079\n",
      "25% Quantile: 1.01975\n",
      "75% Quantile:1.1717499999999998\n",
      "Skewness:0.46752591499730667\n",
      "Kurtosis:-0.257963187132765\n"
     ]
    }
   ],
   "source": [
    "## Calculate the following descriptive statistics: mean, median, quantile, skewness and kurtosis.\n",
    "\n",
    "print(f\"Mean: {df['Price_pl'].mean()} \\nMedian: {df['Price_pl'].median()}\\n25% Quantile: {np.quantile(df['Price_pl'],0.25)}\\n75% Quantile:{np.quantile(df['Price_pl'],0.75)}\\nSkewness:{df['Price_pl'].skew()}\\nKurtosis:{df['Price_pl'].kurtosis()}\")\n"
   ]
  },
  {
   "cell_type": "markdown",
   "id": "9f0c4e9b",
   "metadata": {},
   "source": [
    "* **4.** Create two new columns with the Month and Year. Pivot the table by Month(index) and Year(columns). Calculate and plot the monthly average gas price. This should give you one line per year."
   ]
  },
  {
   "cell_type": "code",
   "execution_count": 235,
   "id": "61f2f3d3",
   "metadata": {},
   "outputs": [
    {
     "data": {
      "text/html": [
       "<div>\n",
       "<style scoped>\n",
       "    .dataframe tbody tr th:only-of-type {\n",
       "        vertical-align: middle;\n",
       "    }\n",
       "\n",
       "    .dataframe tbody tr th {\n",
       "        vertical-align: top;\n",
       "    }\n",
       "\n",
       "    .dataframe thead th {\n",
       "        text-align: right;\n",
       "    }\n",
       "</style>\n",
       "<table border=\"1\" class=\"dataframe\">\n",
       "  <thead>\n",
       "    <tr style=\"text-align: right;\">\n",
       "      <th></th>\n",
       "      <th>Date</th>\n",
       "      <th>Price_pl</th>\n",
       "      <th>Year</th>\n",
       "      <th>Month</th>\n",
       "    </tr>\n",
       "  </thead>\n",
       "  <tbody>\n",
       "    <tr>\n",
       "      <th>0</th>\n",
       "      <td>2015-11-12</td>\n",
       "      <td>1.049</td>\n",
       "      <td>2015</td>\n",
       "      <td>11</td>\n",
       "    </tr>\n",
       "    <tr>\n",
       "      <th>1</th>\n",
       "      <td>2015-11-19</td>\n",
       "      <td>0.999</td>\n",
       "      <td>2015</td>\n",
       "      <td>11</td>\n",
       "    </tr>\n",
       "    <tr>\n",
       "      <th>2</th>\n",
       "      <td>2015-12-07</td>\n",
       "      <td>0.999</td>\n",
       "      <td>2015</td>\n",
       "      <td>12</td>\n",
       "    </tr>\n",
       "    <tr>\n",
       "      <th>3</th>\n",
       "      <td>2015-12-19</td>\n",
       "      <td>1.019</td>\n",
       "      <td>2015</td>\n",
       "      <td>12</td>\n",
       "    </tr>\n",
       "    <tr>\n",
       "      <th>4</th>\n",
       "      <td>2016-01-04</td>\n",
       "      <td>1.019</td>\n",
       "      <td>2016</td>\n",
       "      <td>1</td>\n",
       "    </tr>\n",
       "    <tr>\n",
       "      <th>...</th>\n",
       "      <td>...</td>\n",
       "      <td>...</td>\n",
       "      <td>...</td>\n",
       "      <td>...</td>\n",
       "    </tr>\n",
       "    <tr>\n",
       "      <th>77</th>\n",
       "      <td>2018-10-17</td>\n",
       "      <td>1.209</td>\n",
       "      <td>2018</td>\n",
       "      <td>10</td>\n",
       "    </tr>\n",
       "    <tr>\n",
       "      <th>78</th>\n",
       "      <td>2018-11-01</td>\n",
       "      <td>1.196</td>\n",
       "      <td>2018</td>\n",
       "      <td>11</td>\n",
       "    </tr>\n",
       "    <tr>\n",
       "      <th>79</th>\n",
       "      <td>2018-11-12</td>\n",
       "      <td>1.126</td>\n",
       "      <td>2018</td>\n",
       "      <td>11</td>\n",
       "    </tr>\n",
       "    <tr>\n",
       "      <th>80</th>\n",
       "      <td>2018-11-27</td>\n",
       "      <td>1.059</td>\n",
       "      <td>2018</td>\n",
       "      <td>11</td>\n",
       "    </tr>\n",
       "    <tr>\n",
       "      <th>81</th>\n",
       "      <td>2018-12-06</td>\n",
       "      <td>1.016</td>\n",
       "      <td>2018</td>\n",
       "      <td>12</td>\n",
       "    </tr>\n",
       "  </tbody>\n",
       "</table>\n",
       "<p>82 rows × 4 columns</p>\n",
       "</div>"
      ],
      "text/plain": [
       "         Date  Price_pl  Year  Month\n",
       "0  2015-11-12     1.049  2015     11\n",
       "1  2015-11-19     0.999  2015     11\n",
       "2  2015-12-07     0.999  2015     12\n",
       "3  2015-12-19     1.019  2015     12\n",
       "4  2016-01-04     1.019  2016      1\n",
       "..        ...       ...   ...    ...\n",
       "77 2018-10-17     1.209  2018     10\n",
       "78 2018-11-01     1.196  2018     11\n",
       "79 2018-11-12     1.126  2018     11\n",
       "80 2018-11-27     1.059  2018     11\n",
       "81 2018-12-06     1.016  2018     12\n",
       "\n",
       "[82 rows x 4 columns]"
      ]
     },
     "execution_count": 235,
     "metadata": {},
     "output_type": "execute_result"
    }
   ],
   "source": [
    "##  Create two new columns with the Month and Year. \n",
    "df['Year'] = pd.to_datetime(df['Date']).dt.year\n",
    "df['Month'] = pd.to_datetime(df['Date']).dt.month\n",
    "df"
   ]
  },
  {
   "cell_type": "code",
   "execution_count": 236,
   "id": "ec8da006",
   "metadata": {},
   "outputs": [
    {
     "data": {
      "text/html": [
       "<div>\n",
       "<style scoped>\n",
       "    .dataframe tbody tr th:only-of-type {\n",
       "        vertical-align: middle;\n",
       "    }\n",
       "\n",
       "    .dataframe tbody tr th {\n",
       "        vertical-align: top;\n",
       "    }\n",
       "\n",
       "    .dataframe thead th {\n",
       "        text-align: right;\n",
       "    }\n",
       "</style>\n",
       "<table border=\"1\" class=\"dataframe\">\n",
       "  <thead>\n",
       "    <tr style=\"text-align: right;\">\n",
       "      <th>Year</th>\n",
       "      <th>2015</th>\n",
       "      <th>2016</th>\n",
       "      <th>2017</th>\n",
       "      <th>2018</th>\n",
       "    </tr>\n",
       "    <tr>\n",
       "      <th>Month</th>\n",
       "      <th></th>\n",
       "      <th></th>\n",
       "      <th></th>\n",
       "      <th></th>\n",
       "    </tr>\n",
       "  </thead>\n",
       "  <tbody>\n",
       "    <tr>\n",
       "      <th>1</th>\n",
       "      <td>NaN</td>\n",
       "      <td>0.964000</td>\n",
       "      <td>1.119000</td>\n",
       "      <td>1.197500</td>\n",
       "    </tr>\n",
       "    <tr>\n",
       "      <th>2</th>\n",
       "      <td>NaN</td>\n",
       "      <td>0.899000</td>\n",
       "      <td>1.079000</td>\n",
       "      <td>1.186000</td>\n",
       "    </tr>\n",
       "    <tr>\n",
       "      <th>3</th>\n",
       "      <td>NaN</td>\n",
       "      <td>0.929000</td>\n",
       "      <td>1.075000</td>\n",
       "      <td>1.215000</td>\n",
       "    </tr>\n",
       "    <tr>\n",
       "      <th>4</th>\n",
       "      <td>NaN</td>\n",
       "      <td>1.031500</td>\n",
       "      <td>1.175667</td>\n",
       "      <td>1.287750</td>\n",
       "    </tr>\n",
       "    <tr>\n",
       "      <th>5</th>\n",
       "      <td>NaN</td>\n",
       "      <td>1.075667</td>\n",
       "      <td>1.109000</td>\n",
       "      <td>1.328333</td>\n",
       "    </tr>\n",
       "    <tr>\n",
       "      <th>6</th>\n",
       "      <td>NaN</td>\n",
       "      <td>1.048000</td>\n",
       "      <td>1.022000</td>\n",
       "      <td>1.289000</td>\n",
       "    </tr>\n",
       "    <tr>\n",
       "      <th>7</th>\n",
       "      <td>NaN</td>\n",
       "      <td>1.024000</td>\n",
       "      <td>1.059000</td>\n",
       "      <td>1.312500</td>\n",
       "    </tr>\n",
       "    <tr>\n",
       "      <th>8</th>\n",
       "      <td>NaN</td>\n",
       "      <td>0.993875</td>\n",
       "      <td>1.100667</td>\n",
       "      <td>NaN</td>\n",
       "    </tr>\n",
       "    <tr>\n",
       "      <th>9</th>\n",
       "      <td>NaN</td>\n",
       "      <td>0.999000</td>\n",
       "      <td>1.086000</td>\n",
       "      <td>NaN</td>\n",
       "    </tr>\n",
       "    <tr>\n",
       "      <th>10</th>\n",
       "      <td>NaN</td>\n",
       "      <td>1.049000</td>\n",
       "      <td>1.126000</td>\n",
       "      <td>1.209000</td>\n",
       "    </tr>\n",
       "    <tr>\n",
       "      <th>11</th>\n",
       "      <td>1.024</td>\n",
       "      <td>0.949000</td>\n",
       "      <td>1.183000</td>\n",
       "      <td>1.127000</td>\n",
       "    </tr>\n",
       "    <tr>\n",
       "      <th>12</th>\n",
       "      <td>1.009</td>\n",
       "      <td>1.074000</td>\n",
       "      <td>1.211000</td>\n",
       "      <td>1.016000</td>\n",
       "    </tr>\n",
       "  </tbody>\n",
       "</table>\n",
       "</div>"
      ],
      "text/plain": [
       "Year    2015      2016      2017      2018\n",
       "Month                                     \n",
       "1        NaN  0.964000  1.119000  1.197500\n",
       "2        NaN  0.899000  1.079000  1.186000\n",
       "3        NaN  0.929000  1.075000  1.215000\n",
       "4        NaN  1.031500  1.175667  1.287750\n",
       "5        NaN  1.075667  1.109000  1.328333\n",
       "6        NaN  1.048000  1.022000  1.289000\n",
       "7        NaN  1.024000  1.059000  1.312500\n",
       "8        NaN  0.993875  1.100667       NaN\n",
       "9        NaN  0.999000  1.086000       NaN\n",
       "10       NaN  1.049000  1.126000  1.209000\n",
       "11     1.024  0.949000  1.183000  1.127000\n",
       "12     1.009  1.074000  1.211000  1.016000"
      ]
     },
     "execution_count": 236,
     "metadata": {},
     "output_type": "execute_result"
    }
   ],
   "source": [
    "# pivot table by Month(index) and Year(column), and take average of monthly gas price\n",
    "\n",
    "df_pivot1 = pd.pivot_table(df, values='Price_pl', index=['Month'],columns=['Year'], aggfunc=np.average)\n",
    "df_pivot1"
   ]
  },
  {
   "cell_type": "code",
   "execution_count": 237,
   "id": "7e12318d",
   "metadata": {},
   "outputs": [
    {
     "data": {
      "image/png": "[encoded data removed]",
      "text/plain": [
       "<Figure size 576x360 with 1 Axes>"
      ]
     },
     "metadata": {
      "needs_background": "light"
     },
     "output_type": "display_data"
    }
   ],
   "source": [
    "# plot monthly average gas price for each year\n",
    "df_pivot1.plot(title='Month v.s. Gas Prices', figsize=(10,5))\n",
    "plt.show()"
   ]
  },
  {
   "cell_type": "markdown",
   "id": "720cac16",
   "metadata": {},
   "source": [
    "* **5.**Create a new column with the **season** of the year, set it as a secondary index and calculate the average of every season (regardless of the year) to create the following table:"
   ]
  },
  {
   "cell_type": "code",
   "execution_count": 240,
   "id": "d1877e04",
   "metadata": {},
   "outputs": [
    {
     "data": {
      "text/html": [
       "<div>\n",
       "<style scoped>\n",
       "    .dataframe tbody tr th:only-of-type {\n",
       "        vertical-align: middle;\n",
       "    }\n",
       "\n",
       "    .dataframe tbody tr th {\n",
       "        vertical-align: top;\n",
       "    }\n",
       "\n",
       "    .dataframe thead th {\n",
       "        text-align: right;\n",
       "    }\n",
       "</style>\n",
       "<table border=\"1\" class=\"dataframe\">\n",
       "  <thead>\n",
       "    <tr style=\"text-align: right;\">\n",
       "      <th></th>\n",
       "      <th>Date</th>\n",
       "      <th>Price_pl</th>\n",
       "      <th>Year</th>\n",
       "      <th>Month</th>\n",
       "      <th>Season</th>\n",
       "    </tr>\n",
       "  </thead>\n",
       "  <tbody>\n",
       "    <tr>\n",
       "      <th>0</th>\n",
       "      <td>2015-11-12</td>\n",
       "      <td>1.049</td>\n",
       "      <td>2015</td>\n",
       "      <td>11</td>\n",
       "      <td>Fall</td>\n",
       "    </tr>\n",
       "    <tr>\n",
       "      <th>1</th>\n",
       "      <td>2015-11-19</td>\n",
       "      <td>0.999</td>\n",
       "      <td>2015</td>\n",
       "      <td>11</td>\n",
       "      <td>Fall</td>\n",
       "    </tr>\n",
       "    <tr>\n",
       "      <th>2</th>\n",
       "      <td>2015-12-07</td>\n",
       "      <td>0.999</td>\n",
       "      <td>2015</td>\n",
       "      <td>12</td>\n",
       "      <td>Winter</td>\n",
       "    </tr>\n",
       "    <tr>\n",
       "      <th>3</th>\n",
       "      <td>2015-12-19</td>\n",
       "      <td>1.019</td>\n",
       "      <td>2015</td>\n",
       "      <td>12</td>\n",
       "      <td>Winter</td>\n",
       "    </tr>\n",
       "    <tr>\n",
       "      <th>4</th>\n",
       "      <td>2016-01-04</td>\n",
       "      <td>1.019</td>\n",
       "      <td>2016</td>\n",
       "      <td>1</td>\n",
       "      <td>Winter</td>\n",
       "    </tr>\n",
       "    <tr>\n",
       "      <th>...</th>\n",
       "      <td>...</td>\n",
       "      <td>...</td>\n",
       "      <td>...</td>\n",
       "      <td>...</td>\n",
       "      <td>...</td>\n",
       "    </tr>\n",
       "    <tr>\n",
       "      <th>77</th>\n",
       "      <td>2018-10-17</td>\n",
       "      <td>1.209</td>\n",
       "      <td>2018</td>\n",
       "      <td>10</td>\n",
       "      <td>Fall</td>\n",
       "    </tr>\n",
       "    <tr>\n",
       "      <th>78</th>\n",
       "      <td>2018-11-01</td>\n",
       "      <td>1.196</td>\n",
       "      <td>2018</td>\n",
       "      <td>11</td>\n",
       "      <td>Fall</td>\n",
       "    </tr>\n",
       "    <tr>\n",
       "      <th>79</th>\n",
       "      <td>2018-11-12</td>\n",
       "      <td>1.126</td>\n",
       "      <td>2018</td>\n",
       "      <td>11</td>\n",
       "      <td>Fall</td>\n",
       "    </tr>\n",
       "    <tr>\n",
       "      <th>80</th>\n",
       "      <td>2018-11-27</td>\n",
       "      <td>1.059</td>\n",
       "      <td>2018</td>\n",
       "      <td>11</td>\n",
       "      <td>Fall</td>\n",
       "    </tr>\n",
       "    <tr>\n",
       "      <th>81</th>\n",
       "      <td>2018-12-06</td>\n",
       "      <td>1.016</td>\n",
       "      <td>2018</td>\n",
       "      <td>12</td>\n",
       "      <td>Winter</td>\n",
       "    </tr>\n",
       "  </tbody>\n",
       "</table>\n",
       "<p>82 rows × 5 columns</p>\n",
       "</div>"
      ],
      "text/plain": [
       "         Date  Price_pl  Year  Month  Season\n",
       "0  2015-11-12     1.049  2015     11    Fall\n",
       "1  2015-11-19     0.999  2015     11    Fall\n",
       "2  2015-12-07     0.999  2015     12  Winter\n",
       "3  2015-12-19     1.019  2015     12  Winter\n",
       "4  2016-01-04     1.019  2016      1  Winter\n",
       "..        ...       ...   ...    ...     ...\n",
       "77 2018-10-17     1.209  2018     10    Fall\n",
       "78 2018-11-01     1.196  2018     11    Fall\n",
       "79 2018-11-12     1.126  2018     11    Fall\n",
       "80 2018-11-27     1.059  2018     11    Fall\n",
       "81 2018-12-06     1.016  2018     12  Winter\n",
       "\n",
       "[82 rows x 5 columns]"
      ]
     },
     "execution_count": 240,
     "metadata": {},
     "output_type": "execute_result"
    }
   ],
   "source": [
    "# find the season:\n",
    "\n",
    "for i in range(len(df)):\n",
    "    \n",
    "    # Spring: March, April, May\n",
    "    if df.iloc[i].Month in [3,4,5]:\n",
    "         df.loc[i,'Season'] = 'Spring'\n",
    "            \n",
    "    # Summer: June, July, Augest\n",
    "    elif df.iloc[i].Month in [6,7,8]:\n",
    "        df.loc[i,'Season'] = 'Summer'\n",
    "    \n",
    "    # Fall: September,October,November\n",
    "    elif df.iloc[i].Month in [9,10,11]:\n",
    "         df.loc[i,'Season'] = 'Fall'\n",
    "        \n",
    "    # Winter: December,January,February  \n",
    "    else:\n",
    "         df.loc[i,'Season'] = 'Winter'\n",
    "            \n",
    "df"
   ]
  },
  {
   "cell_type": "code",
   "execution_count": 242,
   "id": "537aefaa",
   "metadata": {},
   "outputs": [
    {
     "data": {
      "text/html": [
       "<div>\n",
       "<style scoped>\n",
       "    .dataframe tbody tr th:only-of-type {\n",
       "        vertical-align: middle;\n",
       "    }\n",
       "\n",
       "    .dataframe tbody tr th {\n",
       "        vertical-align: top;\n",
       "    }\n",
       "\n",
       "    .dataframe thead th {\n",
       "        text-align: right;\n",
       "    }\n",
       "</style>\n",
       "<table border=\"1\" class=\"dataframe\">\n",
       "  <thead>\n",
       "    <tr style=\"text-align: right;\">\n",
       "      <th></th>\n",
       "      <th>Year</th>\n",
       "      <th>2015</th>\n",
       "      <th>2016</th>\n",
       "      <th>2017</th>\n",
       "      <th>2018</th>\n",
       "    </tr>\n",
       "    <tr>\n",
       "      <th>Month</th>\n",
       "      <th>Season</th>\n",
       "      <th></th>\n",
       "      <th></th>\n",
       "      <th></th>\n",
       "      <th></th>\n",
       "    </tr>\n",
       "  </thead>\n",
       "  <tbody>\n",
       "    <tr>\n",
       "      <th>1</th>\n",
       "      <th>Winter</th>\n",
       "      <td>NaN</td>\n",
       "      <td>0.964000</td>\n",
       "      <td>1.119000</td>\n",
       "      <td>1.197500</td>\n",
       "    </tr>\n",
       "    <tr>\n",
       "      <th>2</th>\n",
       "      <th>Winter</th>\n",
       "      <td>NaN</td>\n",
       "      <td>0.899000</td>\n",
       "      <td>1.079000</td>\n",
       "      <td>1.186000</td>\n",
       "    </tr>\n",
       "    <tr>\n",
       "      <th>3</th>\n",
       "      <th>Spring</th>\n",
       "      <td>NaN</td>\n",
       "      <td>0.929000</td>\n",
       "      <td>1.075000</td>\n",
       "      <td>1.215000</td>\n",
       "    </tr>\n",
       "    <tr>\n",
       "      <th>4</th>\n",
       "      <th>Spring</th>\n",
       "      <td>NaN</td>\n",
       "      <td>1.031500</td>\n",
       "      <td>1.175667</td>\n",
       "      <td>1.287750</td>\n",
       "    </tr>\n",
       "    <tr>\n",
       "      <th>5</th>\n",
       "      <th>Spring</th>\n",
       "      <td>NaN</td>\n",
       "      <td>1.075667</td>\n",
       "      <td>1.109000</td>\n",
       "      <td>1.328333</td>\n",
       "    </tr>\n",
       "    <tr>\n",
       "      <th>6</th>\n",
       "      <th>Summer</th>\n",
       "      <td>NaN</td>\n",
       "      <td>1.048000</td>\n",
       "      <td>1.022000</td>\n",
       "      <td>1.289000</td>\n",
       "    </tr>\n",
       "    <tr>\n",
       "      <th>7</th>\n",
       "      <th>Summer</th>\n",
       "      <td>NaN</td>\n",
       "      <td>1.024000</td>\n",
       "      <td>1.059000</td>\n",
       "      <td>1.312500</td>\n",
       "    </tr>\n",
       "    <tr>\n",
       "      <th>8</th>\n",
       "      <th>Summer</th>\n",
       "      <td>NaN</td>\n",
       "      <td>0.993875</td>\n",
       "      <td>1.100667</td>\n",
       "      <td>NaN</td>\n",
       "    </tr>\n",
       "    <tr>\n",
       "      <th>9</th>\n",
       "      <th>Fall</th>\n",
       "      <td>NaN</td>\n",
       "      <td>0.999000</td>\n",
       "      <td>1.086000</td>\n",
       "      <td>NaN</td>\n",
       "    </tr>\n",
       "    <tr>\n",
       "      <th>10</th>\n",
       "      <th>Fall</th>\n",
       "      <td>NaN</td>\n",
       "      <td>1.049000</td>\n",
       "      <td>1.126000</td>\n",
       "      <td>1.209000</td>\n",
       "    </tr>\n",
       "    <tr>\n",
       "      <th>11</th>\n",
       "      <th>Fall</th>\n",
       "      <td>1.024</td>\n",
       "      <td>0.949000</td>\n",
       "      <td>1.183000</td>\n",
       "      <td>1.127000</td>\n",
       "    </tr>\n",
       "    <tr>\n",
       "      <th>12</th>\n",
       "      <th>Winter</th>\n",
       "      <td>1.009</td>\n",
       "      <td>1.074000</td>\n",
       "      <td>1.211000</td>\n",
       "      <td>1.016000</td>\n",
       "    </tr>\n",
       "  </tbody>\n",
       "</table>\n",
       "</div>"
      ],
      "text/plain": [
       "Year           2015      2016      2017      2018\n",
       "Month Season                                     \n",
       "1     Winter    NaN  0.964000  1.119000  1.197500\n",
       "2     Winter    NaN  0.899000  1.079000  1.186000\n",
       "3     Spring    NaN  0.929000  1.075000  1.215000\n",
       "4     Spring    NaN  1.031500  1.175667  1.287750\n",
       "5     Spring    NaN  1.075667  1.109000  1.328333\n",
       "6     Summer    NaN  1.048000  1.022000  1.289000\n",
       "7     Summer    NaN  1.024000  1.059000  1.312500\n",
       "8     Summer    NaN  0.993875  1.100667       NaN\n",
       "9     Fall      NaN  0.999000  1.086000       NaN\n",
       "10    Fall      NaN  1.049000  1.126000  1.209000\n",
       "11    Fall    1.024  0.949000  1.183000  1.127000\n",
       "12    Winter  1.009  1.074000  1.211000  1.016000"
      ]
     },
     "execution_count": 242,
     "metadata": {},
     "output_type": "execute_result"
    }
   ],
   "source": [
    "#set it as a secondary index\n",
    "df_pivot2 = pd.pivot_table(df, values='Price_pl', index=['Month','Season'], columns=['Year'])\n",
    "df_pivot2"
   ]
  },
  {
   "cell_type": "code",
   "execution_count": 246,
   "id": "60bc0110",
   "metadata": {},
   "outputs": [
    {
     "data": {
      "text/html": [
       "<div>\n",
       "<style scoped>\n",
       "    .dataframe tbody tr th:only-of-type {\n",
       "        vertical-align: middle;\n",
       "    }\n",
       "\n",
       "    .dataframe tbody tr th {\n",
       "        vertical-align: top;\n",
       "    }\n",
       "\n",
       "    .dataframe thead th {\n",
       "        text-align: right;\n",
       "    }\n",
       "</style>\n",
       "<table border=\"1\" class=\"dataframe\">\n",
       "  <thead>\n",
       "    <tr style=\"text-align: right;\">\n",
       "      <th></th>\n",
       "      <th>Price_pl</th>\n",
       "    </tr>\n",
       "    <tr>\n",
       "      <th>Season</th>\n",
       "      <th></th>\n",
       "    </tr>\n",
       "  </thead>\n",
       "  <tbody>\n",
       "    <tr>\n",
       "      <th>Fall</th>\n",
       "      <td>1.073429</td>\n",
       "    </tr>\n",
       "    <tr>\n",
       "      <th>Spring</th>\n",
       "      <td>1.133019</td>\n",
       "    </tr>\n",
       "    <tr>\n",
       "      <th>Summer</th>\n",
       "      <td>1.086147</td>\n",
       "    </tr>\n",
       "    <tr>\n",
       "      <th>Winter</th>\n",
       "      <td>1.072417</td>\n",
       "    </tr>\n",
       "  </tbody>\n",
       "</table>\n",
       "</div>"
      ],
      "text/plain": [
       "        Price_pl\n",
       "Season          \n",
       "Fall    1.073429\n",
       "Spring  1.133019\n",
       "Summer  1.086147\n",
       "Winter  1.072417"
      ]
     },
     "execution_count": 246,
     "metadata": {},
     "output_type": "execute_result"
    }
   ],
   "source": [
    "# create season table\n",
    "season = pd.pivot_table(df, values='Price_pl', index=['Season'])\n",
    "season"
   ]
  },
  {
   "cell_type": "markdown",
   "id": "a1e27661",
   "metadata": {},
   "source": [
    "## 4. Pivot, aggregate and plot timeseries\n",
    "* **1.** Import file **TREB_data.xls** as a pandas DataFrame. Create the necessary columns to pivot and generate the table below with the value of **Sales** (hint: use the split() function to split the MonthYear column to Month and Year.\n"
   ]
  },
  {
   "cell_type": "code",
   "execution_count": 247,
   "id": "1d136272",
   "metadata": {},
   "outputs": [
    {
     "name": "stderr",
     "output_type": "stream",
     "text": [
      "/Users/xuyunjie/opt/anaconda3/envs/py37/lib/python3.7/site-packages/openpyxl/worksheet/_reader.py:312: UserWarning: Unknown extension is not supported and will be removed\n",
      "  warn(msg)\n"
     ]
    },
    {
     "data": {
      "text/html": [
       "<div>\n",
       "<style scoped>\n",
       "    .dataframe tbody tr th:only-of-type {\n",
       "        vertical-align: middle;\n",
       "    }\n",
       "\n",
       "    .dataframe tbody tr th {\n",
       "        vertical-align: top;\n",
       "    }\n",
       "\n",
       "    .dataframe thead th {\n",
       "        text-align: right;\n",
       "    }\n",
       "</style>\n",
       "<table border=\"1\" class=\"dataframe\">\n",
       "  <thead>\n",
       "    <tr style=\"text-align: right;\">\n",
       "      <th></th>\n",
       "      <th>MonthYear</th>\n",
       "      <th>Sales</th>\n",
       "      <th>AveragePrice</th>\n",
       "    </tr>\n",
       "  </thead>\n",
       "  <tbody>\n",
       "    <tr>\n",
       "      <th>0</th>\n",
       "      <td>January-2017</td>\n",
       "      <td>5155</td>\n",
       "      <td>768351</td>\n",
       "    </tr>\n",
       "    <tr>\n",
       "      <th>1</th>\n",
       "      <td>February-2017</td>\n",
       "      <td>7955</td>\n",
       "      <td>876363</td>\n",
       "    </tr>\n",
       "    <tr>\n",
       "      <th>2</th>\n",
       "      <td>March-2017</td>\n",
       "      <td>11959</td>\n",
       "      <td>915353</td>\n",
       "    </tr>\n",
       "    <tr>\n",
       "      <th>3</th>\n",
       "      <td>April-2017</td>\n",
       "      <td>11470</td>\n",
       "      <td>918138</td>\n",
       "    </tr>\n",
       "    <tr>\n",
       "      <th>4</th>\n",
       "      <td>May-2017</td>\n",
       "      <td>10068</td>\n",
       "      <td>862109</td>\n",
       "    </tr>\n",
       "  </tbody>\n",
       "</table>\n",
       "</div>"
      ],
      "text/plain": [
       "       MonthYear  Sales  AveragePrice\n",
       "0   January-2017   5155        768351\n",
       "1  February-2017   7955        876363\n",
       "2     March-2017  11959        915353\n",
       "3     April-2017  11470        918138\n",
       "4       May-2017  10068        862109"
      ]
     },
     "execution_count": 247,
     "metadata": {},
     "output_type": "execute_result"
    }
   ],
   "source": [
    "# import data\n",
    "df = pd.read_excel('TREB_Data.xlsx')\n",
    "df.head()"
   ]
  },
  {
   "cell_type": "code",
   "execution_count": 249,
   "id": "ce6bc17c",
   "metadata": {},
   "outputs": [
    {
     "data": {
      "text/html": [
       "<div>\n",
       "<style scoped>\n",
       "    .dataframe tbody tr th:only-of-type {\n",
       "        vertical-align: middle;\n",
       "    }\n",
       "\n",
       "    .dataframe tbody tr th {\n",
       "        vertical-align: top;\n",
       "    }\n",
       "\n",
       "    .dataframe thead th {\n",
       "        text-align: right;\n",
       "    }\n",
       "</style>\n",
       "<table border=\"1\" class=\"dataframe\">\n",
       "  <thead>\n",
       "    <tr style=\"text-align: right;\">\n",
       "      <th></th>\n",
       "      <th>MonthYear</th>\n",
       "      <th>Sales</th>\n",
       "      <th>AveragePrice</th>\n",
       "      <th>Month</th>\n",
       "      <th>Year</th>\n",
       "    </tr>\n",
       "  </thead>\n",
       "  <tbody>\n",
       "    <tr>\n",
       "      <th>0</th>\n",
       "      <td>January-2017</td>\n",
       "      <td>5155</td>\n",
       "      <td>768351</td>\n",
       "      <td>January</td>\n",
       "      <td>2017</td>\n",
       "    </tr>\n",
       "    <tr>\n",
       "      <th>1</th>\n",
       "      <td>February-2017</td>\n",
       "      <td>7955</td>\n",
       "      <td>876363</td>\n",
       "      <td>February</td>\n",
       "      <td>2017</td>\n",
       "    </tr>\n",
       "    <tr>\n",
       "      <th>2</th>\n",
       "      <td>March-2017</td>\n",
       "      <td>11959</td>\n",
       "      <td>915353</td>\n",
       "      <td>March</td>\n",
       "      <td>2017</td>\n",
       "    </tr>\n",
       "    <tr>\n",
       "      <th>3</th>\n",
       "      <td>April-2017</td>\n",
       "      <td>11470</td>\n",
       "      <td>918138</td>\n",
       "      <td>April</td>\n",
       "      <td>2017</td>\n",
       "    </tr>\n",
       "    <tr>\n",
       "      <th>4</th>\n",
       "      <td>May-2017</td>\n",
       "      <td>10068</td>\n",
       "      <td>862109</td>\n",
       "      <td>May</td>\n",
       "      <td>2017</td>\n",
       "    </tr>\n",
       "  </tbody>\n",
       "</table>\n",
       "</div>"
      ],
      "text/plain": [
       "       MonthYear  Sales  AveragePrice     Month  Year\n",
       "0   January-2017   5155        768351   January  2017\n",
       "1  February-2017   7955        876363  February  2017\n",
       "2     March-2017  11959        915353     March  2017\n",
       "3     April-2017  11470        918138     April  2017\n",
       "4       May-2017  10068        862109       May  2017"
      ]
     },
     "execution_count": 249,
     "metadata": {},
     "output_type": "execute_result"
    }
   ],
   "source": [
    "# use the split() function to split the MonthYear column to Month and Year\n",
    "df[['Month','Year']] = df['MonthYear'].str.split('-',expand=True)\n",
    "df.head()"
   ]
  },
  {
   "cell_type": "code",
   "execution_count": 250,
   "id": "c5240818",
   "metadata": {},
   "outputs": [
    {
     "data": {
      "text/html": [
       "<div>\n",
       "<style scoped>\n",
       "    .dataframe tbody tr th:only-of-type {\n",
       "        vertical-align: middle;\n",
       "    }\n",
       "\n",
       "    .dataframe tbody tr th {\n",
       "        vertical-align: top;\n",
       "    }\n",
       "\n",
       "    .dataframe thead th {\n",
       "        text-align: right;\n",
       "    }\n",
       "</style>\n",
       "<table border=\"1\" class=\"dataframe\">\n",
       "  <thead>\n",
       "    <tr style=\"text-align: right;\">\n",
       "      <th>Year</th>\n",
       "      <th>2013</th>\n",
       "      <th>2014</th>\n",
       "      <th>2015</th>\n",
       "      <th>2016</th>\n",
       "      <th>2017</th>\n",
       "    </tr>\n",
       "    <tr>\n",
       "      <th>Month</th>\n",
       "      <th></th>\n",
       "      <th></th>\n",
       "      <th></th>\n",
       "      <th></th>\n",
       "      <th></th>\n",
       "    </tr>\n",
       "  </thead>\n",
       "  <tbody>\n",
       "    <tr>\n",
       "      <th>January</th>\n",
       "      <td>4230</td>\n",
       "      <td>4103</td>\n",
       "      <td>4318</td>\n",
       "      <td>4640</td>\n",
       "      <td>5155</td>\n",
       "    </tr>\n",
       "    <tr>\n",
       "      <th>February</th>\n",
       "      <td>5615</td>\n",
       "      <td>5696</td>\n",
       "      <td>6294</td>\n",
       "      <td>7582</td>\n",
       "      <td>7955</td>\n",
       "    </tr>\n",
       "    <tr>\n",
       "      <th>March</th>\n",
       "      <td>7536</td>\n",
       "      <td>8052</td>\n",
       "      <td>8886</td>\n",
       "      <td>10260</td>\n",
       "      <td>11959</td>\n",
       "    </tr>\n",
       "    <tr>\n",
       "      <th>April</th>\n",
       "      <td>9537</td>\n",
       "      <td>9660</td>\n",
       "      <td>11254</td>\n",
       "      <td>12016</td>\n",
       "      <td>11470</td>\n",
       "    </tr>\n",
       "    <tr>\n",
       "      <th>May</th>\n",
       "      <td>9945</td>\n",
       "      <td>11013</td>\n",
       "      <td>11640</td>\n",
       "      <td>12789</td>\n",
       "      <td>10068</td>\n",
       "    </tr>\n",
       "    <tr>\n",
       "      <th>June</th>\n",
       "      <td>8821</td>\n",
       "      <td>10132</td>\n",
       "      <td>11905</td>\n",
       "      <td>12725</td>\n",
       "      <td>7896</td>\n",
       "    </tr>\n",
       "    <tr>\n",
       "      <th>July</th>\n",
       "      <td>8367</td>\n",
       "      <td>9152</td>\n",
       "      <td>9813</td>\n",
       "      <td>9929</td>\n",
       "      <td>5871</td>\n",
       "    </tr>\n",
       "    <tr>\n",
       "      <th>August</th>\n",
       "      <td>7390</td>\n",
       "      <td>7568</td>\n",
       "      <td>7943</td>\n",
       "      <td>9748</td>\n",
       "      <td>6310</td>\n",
       "    </tr>\n",
       "    <tr>\n",
       "      <th>September</th>\n",
       "      <td>7256</td>\n",
       "      <td>8001</td>\n",
       "      <td>8147</td>\n",
       "      <td>9828</td>\n",
       "      <td>6340</td>\n",
       "    </tr>\n",
       "    <tr>\n",
       "      <th>October</th>\n",
       "      <td>7940</td>\n",
       "      <td>8512</td>\n",
       "      <td>8759</td>\n",
       "      <td>9715</td>\n",
       "      <td>7087</td>\n",
       "    </tr>\n",
       "    <tr>\n",
       "      <th>November</th>\n",
       "      <td>6354</td>\n",
       "      <td>6475</td>\n",
       "      <td>7337</td>\n",
       "      <td>8503</td>\n",
       "      <td>7353</td>\n",
       "    </tr>\n",
       "    <tr>\n",
       "      <th>December</th>\n",
       "      <td>4058</td>\n",
       "      <td>4418</td>\n",
       "      <td>4917</td>\n",
       "      <td>5305</td>\n",
       "      <td>4930</td>\n",
       "    </tr>\n",
       "  </tbody>\n",
       "</table>\n",
       "</div>"
      ],
      "text/plain": [
       "Year       2013   2014   2015   2016   2017\n",
       "Month                                      \n",
       "January    4230   4103   4318   4640   5155\n",
       "February   5615   5696   6294   7582   7955\n",
       "March      7536   8052   8886  10260  11959\n",
       "April      9537   9660  11254  12016  11470\n",
       "May        9945  11013  11640  12789  10068\n",
       "June       8821  10132  11905  12725   7896\n",
       "July       8367   9152   9813   9929   5871\n",
       "August     7390   7568   7943   9748   6310\n",
       "September  7256   8001   8147   9828   6340\n",
       "October    7940   8512   8759   9715   7087\n",
       "November   6354   6475   7337   8503   7353\n",
       "December   4058   4418   4917   5305   4930"
      ]
     },
     "execution_count": 250,
     "metadata": {},
     "output_type": "execute_result"
    }
   ],
   "source": [
    "# create pivot table\n",
    "df_pivot3 = df.pivot_table(values='Sales', \n",
    "                           index='Month', \n",
    "                           columns='Year')\n",
    "\n",
    "index = ['January','February','March','April','May','June','July','August','September','October','November','December']\n",
    "\n",
    "\n",
    "df_pivot3 = df_pivot3.reindex(index)\n",
    "df_pivot3"
   ]
  },
  {
   "cell_type": "markdown",
   "id": "583527d0",
   "metadata": {},
   "source": [
    "* **2.** In one figure, plot **5 lines** (one line per year) with the monthly sales versus the month of the year.\n"
   ]
  },
  {
   "cell_type": "code",
   "execution_count": 253,
   "id": "9eb99553",
   "metadata": {},
   "outputs": [
    {
     "data": {
      "text/plain": [
       "<AxesSubplot:title={'center':'Month v.s. Montly sales'}, xlabel='Month'>"
      ]
     },
     "execution_count": 253,
     "metadata": {},
     "output_type": "execute_result"
    },
    {
     "data": {
      "image/png": "[encoded data removed]",
      "text/plain": [
       "<Figure size 720x360 with 1 Axes>"
      ]
     },
     "metadata": {
      "needs_background": "light"
     },
     "output_type": "display_data"
    }
   ],
   "source": [
    "##  plot 5 lines \n",
    "df_pivot3.plot(title='Month v.s. Montly sales', figsize=(10,5))\n"
   ]
  },
  {
   "cell_type": "markdown",
   "id": "8bddbbae",
   "metadata": {},
   "source": [
    "* **3.** Calculate the total Sales per year and create a bar chart. Do this in two different ways: a) group by year the table pre-pivoting, b) summing up the five columns post-pivoting"
   ]
  },
  {
   "cell_type": "code",
   "execution_count": 257,
   "id": "6396360b",
   "metadata": {},
   "outputs": [
    {
     "data": {
      "image/png": "[encoded data removed]",
      "text/plain": [
       "<Figure size 432x288 with 1 Axes>"
      ]
     },
     "metadata": {
      "needs_background": "light"
     },
     "output_type": "display_data"
    }
   ],
   "source": [
    "# a) group by year the table pre-pivoting\n",
    "df.groupby('Year')['Sales'].sum().plot.bar()\n",
    "plt.show()"
   ]
  },
  {
   "cell_type": "code",
   "execution_count": 259,
   "id": "8e22e264",
   "metadata": {},
   "outputs": [
    {
     "name": "stdout",
     "output_type": "stream",
     "text": [
      "Year\n",
      "2013     87049\n",
      "2014     92782\n",
      "2015    101213\n",
      "2016    113040\n",
      "2017     92394\n",
      "Name: Sales, dtype: int64\n"
     ]
    }
   ],
   "source": [
    "print(df.groupby(['Year']).Sales.sum())"
   ]
  },
  {
   "cell_type": "code",
   "execution_count": 261,
   "id": "60475550",
   "metadata": {},
   "outputs": [
    {
     "data": {
      "image/png": "[encoded data removed]",
      "text/plain": [
       "<Figure size 432x288 with 1 Axes>"
      ]
     },
     "metadata": {
      "needs_background": "light"
     },
     "output_type": "display_data"
    }
   ],
   "source": [
    "# b) summing up the five columns post-pivoting\n",
    "\n",
    "df_pivot3.sum().plot.bar()\n",
    "plt.show()"
   ]
  },
  {
   "cell_type": "code",
   "execution_count": 262,
   "id": "836539d9",
   "metadata": {},
   "outputs": [
    {
     "name": "stdout",
     "output_type": "stream",
     "text": [
      "Year\n",
      "2013     87049\n",
      "2014     92782\n",
      "2015    101213\n",
      "2016    113040\n",
      "2017     92394\n",
      "dtype: int64\n"
     ]
    }
   ],
   "source": [
    "print(df_pivot3.sum())"
   ]
  },
  {
   "cell_type": "code",
   "execution_count": null,
   "id": "edd8cb1d",
   "metadata": {},
   "outputs": [],
   "source": []
  }
 ],
 "metadata": {
  "kernelspec": {
   "display_name": "Python 3 (ipykernel)",
   "language": "python",
   "name": "python3"
  },
  "language_info": {
   "codemirror_mode": {
    "name": "ipython",
    "version": 3
   },
   "file_extension": ".py",
   "mimetype": "text/x-python",
   "name": "python",
   "nbconvert_exporter": "python",
   "pygments_lexer": "ipython3",
   "version": "3.7.6"
  }
 },
 "nbformat": 4,
 "nbformat_minor": 5
}
